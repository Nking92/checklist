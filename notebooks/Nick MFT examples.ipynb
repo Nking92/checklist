{
 "cells": [
  {
   "cell_type": "code",
   "execution_count": 1,
   "metadata": {},
   "outputs": [],
   "source": [
    "import torch\n",
    "from transformers import GPT2Tokenizer, GPT2LMHeadModel\n",
    "import pandas as pd\n",
    "import checklist\n",
    "from checklist.editor import Editor\n",
    "from checklist.expect import Expect\n",
    "from checklist.pred_wrapper import PredictorWrapper\n",
    "from checklist.test_types import MFT\n",
    "from typing import List\n",
    "import warnings\n",
    "warnings.filterwarnings('ignore')"
   ]
  },
  {
   "cell_type": "markdown",
   "metadata": {},
   "source": [
    "# MFTs: Introduction\n",
    "In this notebook, we will create Minimum Functionality Tests (MFTs) for a generative language model. MFTs test one specific function of a language model. They are analogous to unit tests in traditional software engineering."
   ]
  },
  {
   "cell_type": "markdown",
   "metadata": {},
   "source": [
    "## Setup generative model\n",
    "Before we can test anything, we need to set up our language model. We will use the HuggingFace transformers library to load a GPT2 model.\n",
    "\n",
    "First, we create a tokenizer. The tokenizer is responsible for splitting strings into individual words, then converting those words into vectors of numbers that our model can understand."
   ]
  },
  {
   "cell_type": "code",
   "execution_count": 2,
   "metadata": {},
   "outputs": [
    {
     "data": {
      "text/plain": [
       "[8496, 754, 1242, 14210, 43989, 30]"
      ]
     },
     "execution_count": 2,
     "metadata": {},
     "output_type": "execute_result"
    }
   ],
   "source": [
    "# Load pretrained model tokenizer\n",
    "tokenizer = GPT2Tokenizer.from_pretrained('gpt2')\n",
    "\n",
    "# Demonstrate what the tokenizer does\n",
    "tokenizer.encode(\"Wherefore art thou Romeo?\")"
   ]
  },
  {
   "cell_type": "markdown",
   "metadata": {},
   "source": [
    "Our tokenizer has turned the human-readable text into a list of numbers that the model understands. Next, let's load the GPT2 model."
   ]
  },
  {
   "cell_type": "code",
   "execution_count": 3,
   "metadata": {
    "scrolled": true
   },
   "outputs": [
    {
     "data": {
      "text/plain": [
       "'Model loaded'"
      ]
     },
     "execution_count": 3,
     "metadata": {},
     "output_type": "execute_result"
    }
   ],
   "source": [
    "# Load pretrained model (weights)\n",
    "model = GPT2LMHeadModel.from_pretrained(\"gpt2\", pad_token_id=tokenizer.eos_token_id)\n",
    "device = 'cuda'\n",
    "model.eval()\n",
    "model.to(device)\n",
    "\"Model loaded\""
   ]
  },
  {
   "cell_type": "markdown",
   "metadata": {},
   "source": [
    "Generating text with the model requires a bit of work. Let's write a function `generate_sentences` to handle the text generation.\n",
    "\n",
    "`generate_sentences` has 1 parameter, `prompts`, which is a list of strings. A prompt is a string that the model will use as a starting point for generating new text. It gives the model context about what kind of text should be generated.\n",
    "\n",
    "`generate_sentences` will output a list of generated text responses for each prompt."
   ]
  },
  {
   "cell_type": "code",
   "execution_count": 4,
   "metadata": {},
   "outputs": [],
   "source": [
    "def generate_sentences(prompts: List[str]) -> str:\n",
    "    sentences = []\n",
    "    for prompt in prompts:\n",
    "        token_tensor = tokenizer.encode(prompt, return_tensors='pt').to(device) # return_tensors = \"pt\" returns a PyTorch tensor\n",
    "        out = model.generate(\n",
    "            token_tensor,\n",
    "            do_sample=True,\n",
    "            min_length=10,\n",
    "            max_length=50,\n",
    "            num_beams=1,\n",
    "            no_repeat_ngram_size=2,\n",
    "            early_stopping=False,\n",
    "            output_scores=True,\n",
    "            return_dict_in_generate=True)\n",
    "        text = tokenizer.decode(out.sequences[0], skip_special_tokens=True)\n",
    "        sentences.append(text[len(prompt):])\n",
    "    return sentences"
   ]
  },
  {
   "cell_type": "code",
   "execution_count": 5,
   "metadata": {
    "scrolled": true
   },
   "outputs": [
    {
     "data": {
      "text/plain": [
       "[' What art ye here, then?!\\n\\n\\nAlarubaeus: What, but what thou art saying, to what a fool, sayest not, thou poor fool! and for the fool what is thou? I']"
      ]
     },
     "execution_count": 5,
     "metadata": {},
     "output_type": "execute_result"
    }
   ],
   "source": [
    "generate_sentences([\"Wherefore art thou Romeo?\"])"
   ]
  },
  {
   "cell_type": "markdown",
   "metadata": {},
   "source": [
    "Now that everything is ready, we can write our first MFT.\n",
    "\n",
    "## MFT - Language prompt\n",
    "For this MFT, we will expect the model to create a reasonable continuation of a prompt. The model will be prompted with strings like \"In {country} the most commonly spoken language is \" where {country} is a placeholder for a country such as Spain.\n",
    "\n",
    "We need create a rule to determine if the model passes our test. The criteria for passing or failing the test is entirely user defined. We will consider this MFT to pass if the model's output contains any language name. This will demonstrate that the model understands the general context of the prompt. The mentioned language doesn't have to be accurate - for example, \"In Spain the most commonly spoken language is Indonesian\" would pass our test, because Indonesian is a language. The language may also be located anywhere in the output - for example, \"In Spain the most commonly spoken language is not easy to learn. Spanish has many complicated conjugations.\" would also pass our test.\n",
    "\n",
    "In a later section of this notebook, there is another version of this MFT that is stricter, requiring the correct language to be mentioned in the response."
   ]
  },
  {
   "cell_type": "markdown",
   "metadata": {},
   "source": [
    "### Handwritten MFT\n",
    "First, we will write the MFT by hand. Then, we'll use Checklist's MFT class to demonstrate how Checklist helps us create the MFT much more quickly.\n",
    "\n",
    "#### Generate prompts from template\n",
    "We will use Checklist's Editor class to quickly create the prompts."
   ]
  },
  {
   "cell_type": "code",
   "execution_count": 6,
   "metadata": {},
   "outputs": [
    {
     "data": {
      "text/plain": [
       "['In Uzbekistan the most commonly spoken language is ',\n",
       " 'In Greece the most commonly spoken language is ',\n",
       " 'In Cameroon the most commonly spoken language is ',\n",
       " 'In Palau the most commonly spoken language is ',\n",
       " 'In Orange Free State the most commonly spoken language is ',\n",
       " 'In Tajikistan the most commonly spoken language is ',\n",
       " 'In Mozambique the most commonly spoken language is ',\n",
       " 'In Qatar the most commonly spoken language is ',\n",
       " 'In Tonga the most commonly spoken language is ',\n",
       " 'In Qatar the most commonly spoken language is ']"
      ]
     },
     "execution_count": 6,
     "metadata": {},
     "output_type": "execute_result"
    }
   ],
   "source": [
    "editor = Editor()\n",
    "prompt_strs = editor.template(\"In {country} the most commonly spoken language is \", nsamples=10)\n",
    "prompt_strs.data"
   ]
  },
  {
   "cell_type": "markdown",
   "metadata": {},
   "source": [
    "#### Language CSV\n",
    "We need a list of languages to check if the model's output contains a language. To save some time, we will read language names from a CSV file. The data comes from standard ISO Language Codes https://datahub.io/core/language-codes "
   ]
  },
  {
   "cell_type": "code",
   "execution_count": 7,
   "metadata": {},
   "outputs": [
    {
     "data": {
      "text/html": [
       "<div>\n",
       "<style scoped>\n",
       "    .dataframe tbody tr th:only-of-type {\n",
       "        vertical-align: middle;\n",
       "    }\n",
       "\n",
       "    .dataframe tbody tr th {\n",
       "        vertical-align: top;\n",
       "    }\n",
       "\n",
       "    .dataframe thead th {\n",
       "        text-align: right;\n",
       "    }\n",
       "</style>\n",
       "<table border=\"1\" class=\"dataframe\">\n",
       "  <thead>\n",
       "    <tr style=\"text-align: right;\">\n",
       "      <th></th>\n",
       "      <th>alpha2</th>\n",
       "      <th>English</th>\n",
       "    </tr>\n",
       "  </thead>\n",
       "  <tbody>\n",
       "    <tr>\n",
       "      <th>0</th>\n",
       "      <td>aa</td>\n",
       "      <td>Afar</td>\n",
       "    </tr>\n",
       "    <tr>\n",
       "      <th>1</th>\n",
       "      <td>ab</td>\n",
       "      <td>Abkhazian</td>\n",
       "    </tr>\n",
       "    <tr>\n",
       "      <th>2</th>\n",
       "      <td>ae</td>\n",
       "      <td>Avestan</td>\n",
       "    </tr>\n",
       "    <tr>\n",
       "      <th>3</th>\n",
       "      <td>af</td>\n",
       "      <td>Afrikaans</td>\n",
       "    </tr>\n",
       "    <tr>\n",
       "      <th>4</th>\n",
       "      <td>ak</td>\n",
       "      <td>Akan</td>\n",
       "    </tr>\n",
       "    <tr>\n",
       "      <th>...</th>\n",
       "      <td>...</td>\n",
       "      <td>...</td>\n",
       "    </tr>\n",
       "    <tr>\n",
       "      <th>179</th>\n",
       "      <td>yi</td>\n",
       "      <td>Yiddish</td>\n",
       "    </tr>\n",
       "    <tr>\n",
       "      <th>180</th>\n",
       "      <td>yo</td>\n",
       "      <td>Yoruba</td>\n",
       "    </tr>\n",
       "    <tr>\n",
       "      <th>181</th>\n",
       "      <td>za</td>\n",
       "      <td>Zhuang; Chuang</td>\n",
       "    </tr>\n",
       "    <tr>\n",
       "      <th>182</th>\n",
       "      <td>zh</td>\n",
       "      <td>Chinese</td>\n",
       "    </tr>\n",
       "    <tr>\n",
       "      <th>183</th>\n",
       "      <td>zu</td>\n",
       "      <td>Zulu</td>\n",
       "    </tr>\n",
       "  </tbody>\n",
       "</table>\n",
       "<p>184 rows × 2 columns</p>\n",
       "</div>"
      ],
      "text/plain": [
       "    alpha2         English\n",
       "0       aa            Afar\n",
       "1       ab       Abkhazian\n",
       "2       ae         Avestan\n",
       "3       af       Afrikaans\n",
       "4       ak            Akan\n",
       "..     ...             ...\n",
       "179     yi         Yiddish\n",
       "180     yo          Yoruba\n",
       "181     za  Zhuang; Chuang\n",
       "182     zh         Chinese\n",
       "183     zu            Zulu\n",
       "\n",
       "[184 rows x 2 columns]"
      ]
     },
     "execution_count": 7,
     "metadata": {},
     "output_type": "execute_result"
    }
   ],
   "source": [
    "import urllib.request\n",
    "urllib.request.urlretrieve('https://datahub.io/core/language-codes/r/language-codes.csv', 'language-codes.csv')\n",
    "lang_codes_csv = pd.read_csv('language-codes.csv')\n",
    "lang_codes_csv"
   ]
  },
  {
   "cell_type": "markdown",
   "metadata": {},
   "source": [
    "#### Run the MFT\n",
    "Now we're ready to create the MFT. We will create 3 Pandas dataframes, one each for prompts, responses, and results. Then, we will loop over the prompts, send each prompt to the model, and determine if it passes or fails the test. Each prompt and its test result will be recorded in the dataframes."
   ]
  },
  {
   "cell_type": "code",
   "execution_count": 8,
   "metadata": {},
   "outputs": [],
   "source": [
    "prompts = pd.DataFrame({\"id\": [], \"prompt\": []})\n",
    "responses = pd.DataFrame({\"id\": [], \"response\": []})\n",
    "results = pd.DataFrame({\"id\": [], \"p/f\": []})\n",
    "langs = lang_codes_csv[\"English\"].tolist()\n",
    "\n",
    "model_responses = generate_sentences(prompt_strs.data)\n",
    "\n",
    "for (i, response) in enumerate(model_responses):\n",
    "    pf = 'fail'\n",
    "    \n",
    "    # Check if any language from the CSV data is in the generated string\n",
    "    for l in langs:\n",
    "        if l in response:\n",
    "            pf = 'pass'\n",
    "            break\n",
    "\n",
    "    prompts = prompts.append({\"id\": i, \"prompt\": prompt_strs.data[i]}, ignore_index=True)\n",
    "    responses = responses.append({\"id\": i, \"response\": response}, ignore_index=True)\n",
    "    results = results.append({\"id\": i, \"p/f\": pf}, ignore_index=True)"
   ]
  },
  {
   "cell_type": "markdown",
   "metadata": {},
   "source": [
    "#### Show test results\n",
    "Now let's look at the results of our test."
   ]
  },
  {
   "cell_type": "code",
   "execution_count": 9,
   "metadata": {},
   "outputs": [],
   "source": [
    "pd.set_option(\"max_colwidth\", 250)"
   ]
  },
  {
   "cell_type": "code",
   "execution_count": 10,
   "metadata": {},
   "outputs": [
    {
     "data": {
      "text/html": [
       "<div>\n",
       "<style scoped>\n",
       "    .dataframe tbody tr th:only-of-type {\n",
       "        vertical-align: middle;\n",
       "    }\n",
       "\n",
       "    .dataframe tbody tr th {\n",
       "        vertical-align: top;\n",
       "    }\n",
       "\n",
       "    .dataframe thead th {\n",
       "        text-align: right;\n",
       "    }\n",
       "</style>\n",
       "<table border=\"1\" class=\"dataframe\">\n",
       "  <thead>\n",
       "    <tr style=\"text-align: right;\">\n",
       "      <th></th>\n",
       "      <th>id</th>\n",
       "      <th>prompt</th>\n",
       "    </tr>\n",
       "  </thead>\n",
       "  <tbody>\n",
       "    <tr>\n",
       "      <th>0</th>\n",
       "      <td>0.0</td>\n",
       "      <td>In Uzbekistan the most commonly spoken language is</td>\n",
       "    </tr>\n",
       "    <tr>\n",
       "      <th>1</th>\n",
       "      <td>1.0</td>\n",
       "      <td>In Greece the most commonly spoken language is</td>\n",
       "    </tr>\n",
       "    <tr>\n",
       "      <th>2</th>\n",
       "      <td>2.0</td>\n",
       "      <td>In Cameroon the most commonly spoken language is</td>\n",
       "    </tr>\n",
       "    <tr>\n",
       "      <th>3</th>\n",
       "      <td>3.0</td>\n",
       "      <td>In Palau the most commonly spoken language is</td>\n",
       "    </tr>\n",
       "    <tr>\n",
       "      <th>4</th>\n",
       "      <td>4.0</td>\n",
       "      <td>In Orange Free State the most commonly spoken language is</td>\n",
       "    </tr>\n",
       "    <tr>\n",
       "      <th>5</th>\n",
       "      <td>5.0</td>\n",
       "      <td>In Tajikistan the most commonly spoken language is</td>\n",
       "    </tr>\n",
       "    <tr>\n",
       "      <th>6</th>\n",
       "      <td>6.0</td>\n",
       "      <td>In Mozambique the most commonly spoken language is</td>\n",
       "    </tr>\n",
       "    <tr>\n",
       "      <th>7</th>\n",
       "      <td>7.0</td>\n",
       "      <td>In Qatar the most commonly spoken language is</td>\n",
       "    </tr>\n",
       "    <tr>\n",
       "      <th>8</th>\n",
       "      <td>8.0</td>\n",
       "      <td>In Tonga the most commonly spoken language is</td>\n",
       "    </tr>\n",
       "    <tr>\n",
       "      <th>9</th>\n",
       "      <td>9.0</td>\n",
       "      <td>In Qatar the most commonly spoken language is</td>\n",
       "    </tr>\n",
       "  </tbody>\n",
       "</table>\n",
       "</div>"
      ],
      "text/plain": [
       "    id                                                      prompt\n",
       "0  0.0         In Uzbekistan the most commonly spoken language is \n",
       "1  1.0             In Greece the most commonly spoken language is \n",
       "2  2.0           In Cameroon the most commonly spoken language is \n",
       "3  3.0              In Palau the most commonly spoken language is \n",
       "4  4.0  In Orange Free State the most commonly spoken language is \n",
       "5  5.0         In Tajikistan the most commonly spoken language is \n",
       "6  6.0         In Mozambique the most commonly spoken language is \n",
       "7  7.0              In Qatar the most commonly spoken language is \n",
       "8  8.0              In Tonga the most commonly spoken language is \n",
       "9  9.0              In Qatar the most commonly spoken language is "
      ]
     },
     "execution_count": 10,
     "metadata": {},
     "output_type": "execute_result"
    }
   ],
   "source": [
    "prompts"
   ]
  },
  {
   "cell_type": "code",
   "execution_count": 11,
   "metadata": {},
   "outputs": [
    {
     "data": {
      "text/html": [
       "<div>\n",
       "<style scoped>\n",
       "    .dataframe tbody tr th:only-of-type {\n",
       "        vertical-align: middle;\n",
       "    }\n",
       "\n",
       "    .dataframe tbody tr th {\n",
       "        vertical-align: top;\n",
       "    }\n",
       "\n",
       "    .dataframe thead th {\n",
       "        text-align: right;\n",
       "    }\n",
       "</style>\n",
       "<table border=\"1\" class=\"dataframe\">\n",
       "  <thead>\n",
       "    <tr style=\"text-align: right;\">\n",
       "      <th></th>\n",
       "      <th>id</th>\n",
       "      <th>response</th>\n",
       "    </tr>\n",
       "  </thead>\n",
       "  <tbody>\n",
       "    <tr>\n",
       "      <th>0</th>\n",
       "      <td>0.0</td>\n",
       "      <td>vernacular in Uzbek. In Uzbek, the language of learning is \"Zarman,\" and it is usually given as ң.\\n\\nThe main differences on the pronunciation of \"zar</td>\n",
       "    </tr>\n",
       "    <tr>\n",
       "      <th>1</th>\n",
       "      <td>1.0</td>\n",
       "      <td>합국어 (에비지성한), a variant of it written with the same spelling.\\n\\nIn Russia the term �</td>\n",
       "    </tr>\n",
       "    <tr>\n",
       "      <th>2</th>\n",
       "      <td>2.0</td>\n",
       "      <td>ʻuhb-bah and it is called ukka-bah or 'titum-ah', while Arabic and Latin are the two most common.\\n\\nMany people use the term</td>\n",
       "    </tr>\n",
       "    <tr>\n",
       "      <th>3</th>\n",
       "      <td>3.0</td>\n",
       "      <td>vernacular, especially Mandarin. In the modern world, it's often used in the Western sense, to describe things as they would today. It's also considered part of the language barrier because of its</td>\n",
       "    </tr>\n",
       "    <tr>\n",
       "      <th>4</th>\n",
       "      <td>4.0</td>\n",
       "      <td>㆜ 앴문 (koreansu) and 不古는 (junku). 佧검語 (lun</td>\n",
       "    </tr>\n",
       "    <tr>\n",
       "      <th>5</th>\n",
       "      <td>5.0</td>\n",
       "      <td>ʇḍāni. This language, which means English, is a popular means for communication in and around Tajigistan. It is the only form of Arabic spoken in Tajand in</td>\n",
       "    </tr>\n",
       "    <tr>\n",
       "      <th>6</th>\n",
       "      <td>6.0</td>\n",
       "      <td>vernacular, though with less use in the Western Sahara. In the western Sahara, Ṭūc is commonly used in French with emphasis on it being a sign of peace.\\n\\n</td>\n",
       "    </tr>\n",
       "    <tr>\n",
       "      <th>7</th>\n",
       "      <td>7.0</td>\n",
       "      <td>ā, of which English is almost as common as Arabic and Urdu. Arabic-derived languages, in contrast, also have a relatively lower rate of usage than English. For example, Urati is about</td>\n",
       "    </tr>\n",
       "    <tr>\n",
       "      <th>8</th>\n",
       "      <td>8.0</td>\n",
       "      <td>əsak in the Tonganyat language (Pinnayatat). It's also said to have a strong dialect with some similarities between the languages. Tongans are also referred to as</td>\n",
       "    </tr>\n",
       "    <tr>\n",
       "      <th>9</th>\n",
       "      <td>9.0</td>\n",
       "      <td>اجمبیر Arabic means the name for Mecca. Other than these two words it is the same Arabic language. It also means \"the best and most famous city in the world\".\\n</td>\n",
       "    </tr>\n",
       "  </tbody>\n",
       "</table>\n",
       "</div>"
      ],
      "text/plain": [
       "    id  \\\n",
       "0  0.0   \n",
       "1  1.0   \n",
       "2  2.0   \n",
       "3  3.0   \n",
       "4  4.0   \n",
       "5  5.0   \n",
       "6  6.0   \n",
       "7  7.0   \n",
       "8  8.0   \n",
       "9  9.0   \n",
       "\n",
       "                                                                                                                                                                                               response  \n",
       "0                                               vernacular in Uzbek. In Uzbek, the language of learning is \"Zarman,\" and it is usually given as ң.\\n\\nThe main differences on the pronunciation of \"zar  \n",
       "1                                                                                                                  합국어 (에비지성한), a variant of it written with the same spelling.\\n\\nIn Russia the term �  \n",
       "2                                                                         ʻuhb-bah and it is called ukka-bah or 'titum-ah', while Arabic and Latin are the two most common.\\n\\nMany people use the term  \n",
       "3  vernacular, especially Mandarin. In the modern world, it's often used in the Western sense, to describe things as they would today. It's also considered part of the language barrier because of its  \n",
       "4                                                                                                                                                             ㆜ 앴문 (koreansu) and 不古는 (junku). 佧검語 (lun  \n",
       "5                                           ʇḍāni. This language, which means English, is a popular means for communication in and around Tajigistan. It is the only form of Arabic spoken in Tajand in  \n",
       "6                                          vernacular, though with less use in the Western Sahara. In the western Sahara, Ṭūc is commonly used in French with emphasis on it being a sign of peace.\\n\\n  \n",
       "7               ā, of which English is almost as common as Arabic and Urdu. Arabic-derived languages, in contrast, also have a relatively lower rate of usage than English. For example, Urati is about  \n",
       "8                                    əsak in the Tonganyat language (Pinnayatat). It's also said to have a strong dialect with some similarities between the languages. Tongans are also referred to as  \n",
       "9                                      اجمبیر Arabic means the name for Mecca. Other than these two words it is the same Arabic language. It also means \"the best and most famous city in the world\".\\n  "
      ]
     },
     "execution_count": 11,
     "metadata": {},
     "output_type": "execute_result"
    }
   ],
   "source": [
    "responses"
   ]
  },
  {
   "cell_type": "code",
   "execution_count": 12,
   "metadata": {},
   "outputs": [
    {
     "data": {
      "text/html": [
       "<div>\n",
       "<style scoped>\n",
       "    .dataframe tbody tr th:only-of-type {\n",
       "        vertical-align: middle;\n",
       "    }\n",
       "\n",
       "    .dataframe tbody tr th {\n",
       "        vertical-align: top;\n",
       "    }\n",
       "\n",
       "    .dataframe thead th {\n",
       "        text-align: right;\n",
       "    }\n",
       "</style>\n",
       "<table border=\"1\" class=\"dataframe\">\n",
       "  <thead>\n",
       "    <tr style=\"text-align: right;\">\n",
       "      <th></th>\n",
       "      <th>id</th>\n",
       "      <th>p/f</th>\n",
       "    </tr>\n",
       "  </thead>\n",
       "  <tbody>\n",
       "    <tr>\n",
       "      <th>0</th>\n",
       "      <td>0.0</td>\n",
       "      <td>pass</td>\n",
       "    </tr>\n",
       "    <tr>\n",
       "      <th>1</th>\n",
       "      <td>1.0</td>\n",
       "      <td>fail</td>\n",
       "    </tr>\n",
       "    <tr>\n",
       "      <th>2</th>\n",
       "      <td>2.0</td>\n",
       "      <td>pass</td>\n",
       "    </tr>\n",
       "    <tr>\n",
       "      <th>3</th>\n",
       "      <td>3.0</td>\n",
       "      <td>fail</td>\n",
       "    </tr>\n",
       "    <tr>\n",
       "      <th>4</th>\n",
       "      <td>4.0</td>\n",
       "      <td>fail</td>\n",
       "    </tr>\n",
       "    <tr>\n",
       "      <th>5</th>\n",
       "      <td>5.0</td>\n",
       "      <td>pass</td>\n",
       "    </tr>\n",
       "    <tr>\n",
       "      <th>6</th>\n",
       "      <td>6.0</td>\n",
       "      <td>pass</td>\n",
       "    </tr>\n",
       "    <tr>\n",
       "      <th>7</th>\n",
       "      <td>7.0</td>\n",
       "      <td>pass</td>\n",
       "    </tr>\n",
       "    <tr>\n",
       "      <th>8</th>\n",
       "      <td>8.0</td>\n",
       "      <td>fail</td>\n",
       "    </tr>\n",
       "    <tr>\n",
       "      <th>9</th>\n",
       "      <td>9.0</td>\n",
       "      <td>pass</td>\n",
       "    </tr>\n",
       "  </tbody>\n",
       "</table>\n",
       "</div>"
      ],
      "text/plain": [
       "    id   p/f\n",
       "0  0.0  pass\n",
       "1  1.0  fail\n",
       "2  2.0  pass\n",
       "3  3.0  fail\n",
       "4  4.0  fail\n",
       "5  5.0  pass\n",
       "6  6.0  pass\n",
       "7  7.0  pass\n",
       "8  8.0  fail\n",
       "9  9.0  pass"
      ]
     },
     "execution_count": 12,
     "metadata": {},
     "output_type": "execute_result"
    }
   ],
   "source": [
    "results"
   ]
  },
  {
   "cell_type": "markdown",
   "metadata": {},
   "source": [
    "We can merge all the dataframes to make the results easier to read."
   ]
  },
  {
   "cell_type": "code",
   "execution_count": 13,
   "metadata": {},
   "outputs": [
    {
     "data": {
      "text/html": [
       "<div>\n",
       "<style scoped>\n",
       "    .dataframe tbody tr th:only-of-type {\n",
       "        vertical-align: middle;\n",
       "    }\n",
       "\n",
       "    .dataframe tbody tr th {\n",
       "        vertical-align: top;\n",
       "    }\n",
       "\n",
       "    .dataframe thead th {\n",
       "        text-align: right;\n",
       "    }\n",
       "</style>\n",
       "<table border=\"1\" class=\"dataframe\">\n",
       "  <thead>\n",
       "    <tr style=\"text-align: right;\">\n",
       "      <th></th>\n",
       "      <th>id</th>\n",
       "      <th>prompt</th>\n",
       "      <th>response</th>\n",
       "      <th>p/f</th>\n",
       "    </tr>\n",
       "  </thead>\n",
       "  <tbody>\n",
       "    <tr>\n",
       "      <th>0</th>\n",
       "      <td>0.0</td>\n",
       "      <td>In Uzbekistan the most commonly spoken language is</td>\n",
       "      <td>vernacular in Uzbek. In Uzbek, the language of learning is \"Zarman,\" and it is usually given as ң.\\n\\nThe main differences on the pronunciation of \"zar</td>\n",
       "      <td>pass</td>\n",
       "    </tr>\n",
       "    <tr>\n",
       "      <th>1</th>\n",
       "      <td>1.0</td>\n",
       "      <td>In Greece the most commonly spoken language is</td>\n",
       "      <td>합국어 (에비지성한), a variant of it written with the same spelling.\\n\\nIn Russia the term �</td>\n",
       "      <td>fail</td>\n",
       "    </tr>\n",
       "    <tr>\n",
       "      <th>2</th>\n",
       "      <td>2.0</td>\n",
       "      <td>In Cameroon the most commonly spoken language is</td>\n",
       "      <td>ʻuhb-bah and it is called ukka-bah or 'titum-ah', while Arabic and Latin are the two most common.\\n\\nMany people use the term</td>\n",
       "      <td>pass</td>\n",
       "    </tr>\n",
       "    <tr>\n",
       "      <th>3</th>\n",
       "      <td>3.0</td>\n",
       "      <td>In Palau the most commonly spoken language is</td>\n",
       "      <td>vernacular, especially Mandarin. In the modern world, it's often used in the Western sense, to describe things as they would today. It's also considered part of the language barrier because of its</td>\n",
       "      <td>fail</td>\n",
       "    </tr>\n",
       "    <tr>\n",
       "      <th>4</th>\n",
       "      <td>4.0</td>\n",
       "      <td>In Orange Free State the most commonly spoken language is</td>\n",
       "      <td>㆜ 앴문 (koreansu) and 不古는 (junku). 佧검語 (lun</td>\n",
       "      <td>fail</td>\n",
       "    </tr>\n",
       "    <tr>\n",
       "      <th>5</th>\n",
       "      <td>5.0</td>\n",
       "      <td>In Tajikistan the most commonly spoken language is</td>\n",
       "      <td>ʇḍāni. This language, which means English, is a popular means for communication in and around Tajigistan. It is the only form of Arabic spoken in Tajand in</td>\n",
       "      <td>pass</td>\n",
       "    </tr>\n",
       "    <tr>\n",
       "      <th>6</th>\n",
       "      <td>6.0</td>\n",
       "      <td>In Mozambique the most commonly spoken language is</td>\n",
       "      <td>vernacular, though with less use in the Western Sahara. In the western Sahara, Ṭūc is commonly used in French with emphasis on it being a sign of peace.\\n\\n</td>\n",
       "      <td>pass</td>\n",
       "    </tr>\n",
       "    <tr>\n",
       "      <th>7</th>\n",
       "      <td>7.0</td>\n",
       "      <td>In Qatar the most commonly spoken language is</td>\n",
       "      <td>ā, of which English is almost as common as Arabic and Urdu. Arabic-derived languages, in contrast, also have a relatively lower rate of usage than English. For example, Urati is about</td>\n",
       "      <td>pass</td>\n",
       "    </tr>\n",
       "    <tr>\n",
       "      <th>8</th>\n",
       "      <td>8.0</td>\n",
       "      <td>In Tonga the most commonly spoken language is</td>\n",
       "      <td>əsak in the Tonganyat language (Pinnayatat). It's also said to have a strong dialect with some similarities between the languages. Tongans are also referred to as</td>\n",
       "      <td>fail</td>\n",
       "    </tr>\n",
       "    <tr>\n",
       "      <th>9</th>\n",
       "      <td>9.0</td>\n",
       "      <td>In Qatar the most commonly spoken language is</td>\n",
       "      <td>اجمبیر Arabic means the name for Mecca. Other than these two words it is the same Arabic language. It also means \"the best and most famous city in the world\".\\n</td>\n",
       "      <td>pass</td>\n",
       "    </tr>\n",
       "  </tbody>\n",
       "</table>\n",
       "</div>"
      ],
      "text/plain": [
       "    id                                                      prompt  \\\n",
       "0  0.0         In Uzbekistan the most commonly spoken language is    \n",
       "1  1.0             In Greece the most commonly spoken language is    \n",
       "2  2.0           In Cameroon the most commonly spoken language is    \n",
       "3  3.0              In Palau the most commonly spoken language is    \n",
       "4  4.0  In Orange Free State the most commonly spoken language is    \n",
       "5  5.0         In Tajikistan the most commonly spoken language is    \n",
       "6  6.0         In Mozambique the most commonly spoken language is    \n",
       "7  7.0              In Qatar the most commonly spoken language is    \n",
       "8  8.0              In Tonga the most commonly spoken language is    \n",
       "9  9.0              In Qatar the most commonly spoken language is    \n",
       "\n",
       "                                                                                                                                                                                               response  \\\n",
       "0                                               vernacular in Uzbek. In Uzbek, the language of learning is \"Zarman,\" and it is usually given as ң.\\n\\nThe main differences on the pronunciation of \"zar   \n",
       "1                                                                                                                  합국어 (에비지성한), a variant of it written with the same spelling.\\n\\nIn Russia the term �   \n",
       "2                                                                         ʻuhb-bah and it is called ukka-bah or 'titum-ah', while Arabic and Latin are the two most common.\\n\\nMany people use the term   \n",
       "3  vernacular, especially Mandarin. In the modern world, it's often used in the Western sense, to describe things as they would today. It's also considered part of the language barrier because of its   \n",
       "4                                                                                                                                                             ㆜ 앴문 (koreansu) and 不古는 (junku). 佧검語 (lun   \n",
       "5                                           ʇḍāni. This language, which means English, is a popular means for communication in and around Tajigistan. It is the only form of Arabic spoken in Tajand in   \n",
       "6                                          vernacular, though with less use in the Western Sahara. In the western Sahara, Ṭūc is commonly used in French with emphasis on it being a sign of peace.\\n\\n   \n",
       "7               ā, of which English is almost as common as Arabic and Urdu. Arabic-derived languages, in contrast, also have a relatively lower rate of usage than English. For example, Urati is about   \n",
       "8                                    əsak in the Tonganyat language (Pinnayatat). It's also said to have a strong dialect with some similarities between the languages. Tongans are also referred to as   \n",
       "9                                      اجمبیر Arabic means the name for Mecca. Other than these two words it is the same Arabic language. It also means \"the best and most famous city in the world\".\\n   \n",
       "\n",
       "    p/f  \n",
       "0  pass  \n",
       "1  fail  \n",
       "2  pass  \n",
       "3  fail  \n",
       "4  fail  \n",
       "5  pass  \n",
       "6  pass  \n",
       "7  pass  \n",
       "8  fail  \n",
       "9  pass  "
      ]
     },
     "execution_count": 13,
     "metadata": {},
     "output_type": "execute_result"
    }
   ],
   "source": [
    "merged = pd.merge(responses, results, on=\"id\")\n",
    "merged = pd.merge(prompts, merged, on=\"id\")\n",
    "merged"
   ]
  },
  {
   "cell_type": "markdown",
   "metadata": {},
   "source": [
    "Finally, let's display the failing tests."
   ]
  },
  {
   "cell_type": "code",
   "execution_count": 14,
   "metadata": {
    "scrolled": false
   },
   "outputs": [
    {
     "data": {
      "text/html": [
       "<div>\n",
       "<style scoped>\n",
       "    .dataframe tbody tr th:only-of-type {\n",
       "        vertical-align: middle;\n",
       "    }\n",
       "\n",
       "    .dataframe tbody tr th {\n",
       "        vertical-align: top;\n",
       "    }\n",
       "\n",
       "    .dataframe thead th {\n",
       "        text-align: right;\n",
       "    }\n",
       "</style>\n",
       "<table border=\"1\" class=\"dataframe\">\n",
       "  <thead>\n",
       "    <tr style=\"text-align: right;\">\n",
       "      <th></th>\n",
       "      <th>id</th>\n",
       "      <th>prompt</th>\n",
       "      <th>response</th>\n",
       "      <th>p/f</th>\n",
       "    </tr>\n",
       "  </thead>\n",
       "  <tbody>\n",
       "    <tr>\n",
       "      <th>1</th>\n",
       "      <td>1.0</td>\n",
       "      <td>In Greece the most commonly spoken language is</td>\n",
       "      <td>합국어 (에비지성한), a variant of it written with the same spelling.\\n\\nIn Russia the term �</td>\n",
       "      <td>fail</td>\n",
       "    </tr>\n",
       "    <tr>\n",
       "      <th>3</th>\n",
       "      <td>3.0</td>\n",
       "      <td>In Palau the most commonly spoken language is</td>\n",
       "      <td>vernacular, especially Mandarin. In the modern world, it's often used in the Western sense, to describe things as they would today. It's also considered part of the language barrier because of its</td>\n",
       "      <td>fail</td>\n",
       "    </tr>\n",
       "    <tr>\n",
       "      <th>4</th>\n",
       "      <td>4.0</td>\n",
       "      <td>In Orange Free State the most commonly spoken language is</td>\n",
       "      <td>㆜ 앴문 (koreansu) and 不古는 (junku). 佧검語 (lun</td>\n",
       "      <td>fail</td>\n",
       "    </tr>\n",
       "    <tr>\n",
       "      <th>8</th>\n",
       "      <td>8.0</td>\n",
       "      <td>In Tonga the most commonly spoken language is</td>\n",
       "      <td>əsak in the Tonganyat language (Pinnayatat). It's also said to have a strong dialect with some similarities between the languages. Tongans are also referred to as</td>\n",
       "      <td>fail</td>\n",
       "    </tr>\n",
       "  </tbody>\n",
       "</table>\n",
       "</div>"
      ],
      "text/plain": [
       "    id                                                      prompt  \\\n",
       "1  1.0             In Greece the most commonly spoken language is    \n",
       "3  3.0              In Palau the most commonly spoken language is    \n",
       "4  4.0  In Orange Free State the most commonly spoken language is    \n",
       "8  8.0              In Tonga the most commonly spoken language is    \n",
       "\n",
       "                                                                                                                                                                                               response  \\\n",
       "1                                                                                                                  합국어 (에비지성한), a variant of it written with the same spelling.\\n\\nIn Russia the term �   \n",
       "3  vernacular, especially Mandarin. In the modern world, it's often used in the Western sense, to describe things as they would today. It's also considered part of the language barrier because of its   \n",
       "4                                                                                                                                                             ㆜ 앴문 (koreansu) and 不古는 (junku). 佧검語 (lun   \n",
       "8                                    əsak in the Tonganyat language (Pinnayatat). It's also said to have a strong dialect with some similarities between the languages. Tongans are also referred to as   \n",
       "\n",
       "    p/f  \n",
       "1  fail  \n",
       "3  fail  \n",
       "4  fail  \n",
       "8  fail  "
      ]
     },
     "execution_count": 14,
     "metadata": {},
     "output_type": "execute_result"
    }
   ],
   "source": [
    "merged.loc[merged['p/f'] == 'fail']"
   ]
  },
  {
   "cell_type": "markdown",
   "metadata": {},
   "source": [
    "### Test with Checklist"
   ]
  },
  {
   "cell_type": "markdown",
   "metadata": {},
   "source": [
    "Next, let's try running the MFT with Checklist. We will no longer need to keep track of results in Pandas dataframes, since Checklist will track the results for us.\n",
    "\n",
    "#### Create the expectation function\n",
    "In order to determine if an example passes or fails the test, Checklist uses an expectation function. An expectation function is a function that receives the example, then returns true if the example passes the test, or false if the example fails."
   ]
  },
  {
   "cell_type": "code",
   "execution_count": 15,
   "metadata": {},
   "outputs": [],
   "source": [
    "def response_contains_language(x, pred, conf, label=None, meta=None):\n",
    "    for l in langs:\n",
    "        if l in pred:\n",
    "            return True\n",
    "    return False"
   ]
  },
  {
   "cell_type": "markdown",
   "metadata": {},
   "source": [
    "We will wrap this function with `Expect.single`, which causes the expectation function to be called for each example. In other cases, you might want to have an expectation function that checks multiple examples simulatneously. See the tutorial notebook \"3. Test types, expectation functions, running tests\" for detailed information about expectation functions."
   ]
  },
  {
   "cell_type": "code",
   "execution_count": 16,
   "metadata": {},
   "outputs": [],
   "source": [
    "contains_language_expect_fn = Expect.single(response_contains_language)"
   ]
  },
  {
   "cell_type": "markdown",
   "metadata": {},
   "source": [
    "Now we can feed our prompts and expectation function into the MFT constructor."
   ]
  },
  {
   "cell_type": "code",
   "execution_count": 17,
   "metadata": {},
   "outputs": [],
   "source": [
    "test = MFT(**prompt_strs, name='Language in response', description='The response contains a language.', expect=contains_language_expect_fn)"
   ]
  },
  {
   "cell_type": "markdown",
   "metadata": {},
   "source": [
    "In order to run the test, Checklist also needs a function that generates the model's predictions for the inputs. The function receives all inputs (prompts) as a list, and must return the results in a tuple `(model_predictions, confidences)`, where `model_predictions` is a list of all the predictions, and `confidences` is a list of the model's scores for those predictions.\n",
    "\n",
    "We will not be using confidences in this test. Checklist provides a wrapper function `PredictorWrapper.wrap_predict()` that outputs a tuple with a confidence score of 1 for any prediction. We can use it to wrap `generate_sentences` so the predictions will have a confidence score as needed."
   ]
  },
  {
   "cell_type": "code",
   "execution_count": 18,
   "metadata": {},
   "outputs": [
    {
     "data": {
      "text/plain": [
       "(['타찰로릴 몹장키.\\n\\nIn South Korea, 하어시할 �'], array([1.]))"
      ]
     },
     "execution_count": 18,
     "metadata": {},
     "output_type": "execute_result"
    }
   ],
   "source": [
    "wrapped_generator = PredictorWrapper.wrap_predict(generate_sentences)\n",
    "wrapped_generator([\"In Brazil the most commonly spoken language is \"])"
   ]
  },
  {
   "cell_type": "markdown",
   "metadata": {},
   "source": [
    "Now we're ready to run the test. The first argument to the `test.run()` function is the generator function we just created. We will also set the optional parameter `overwrite=True` so the test can be re-run without an error. If overwrite=False, then Checklist will reject subsequent test runs to prevent us from accidentally overwriting your test results."
   ]
  },
  {
   "cell_type": "code",
   "execution_count": 19,
   "metadata": {},
   "outputs": [
    {
     "name": "stdout",
     "output_type": "stream",
     "text": [
      "Predicting 10 examples\n"
     ]
    }
   ],
   "source": [
    "test.run(wrapped_generator, overwrite=True)"
   ]
  },
  {
   "cell_type": "markdown",
   "metadata": {},
   "source": [
    "To see the results, we can use the `summary` function."
   ]
  },
  {
   "cell_type": "code",
   "execution_count": 20,
   "metadata": {},
   "outputs": [],
   "source": [
    "def format_example(x, pred, conf, label=None, meta=None): \n",
    "    return 'Prompt:      %s\\nCompletion:      %s' % (x, pred) "
   ]
  },
  {
   "cell_type": "code",
   "execution_count": 21,
   "metadata": {
    "scrolled": true
   },
   "outputs": [
    {
     "name": "stdout",
     "output_type": "stream",
     "text": [
      "Test cases:      10\n",
      "Fails (rate):    7 (70.0%)\n",
      "\n",
      "Example fails:\n",
      "Prompt:      In Orange Free State the most commonly spoken language is \n",
      "Completion:      틜마천이즁, and for some time it was used exclusively as a way of escaping from the harsh realities of the land. For others it\n",
      "----\n",
      "Prompt:      In Cameroon the most commonly spoken language is \n",
      "Completion:      русского воль, but it is used as well by a whole bunch of ethnic groups who don't understand much. The people who speak it are people of\n",
      "----\n",
      "Prompt:      In Palau the most commonly spoken language is \n",
      "Completion:      vernacular (plural gloria encoma (noun, 'guild') ), used by many in China to describe people living in cities.[4][5] \n",
      "----\n"
     ]
    }
   ],
   "source": [
    "test.summary(format_example_fn = format_example)"
   ]
  },
  {
   "cell_type": "markdown",
   "metadata": {},
   "source": [
    "Test results can also be explored visually by using the `visual_summary` function."
   ]
  },
  {
   "cell_type": "code",
   "execution_count": 22,
   "metadata": {},
   "outputs": [
    {
     "data": {
      "application/vnd.jupyter.widget-view+json": {
       "model_id": "f5d23ca872d040b3b60ceca8d1b830d4",
       "version_major": 2,
       "version_minor": 0
      },
      "text/plain": [
       "TestSummarizer(stats={'npassed': 3, 'nfailed': 7, 'nfiltered': 0}, summarizer={'name': 'Language in response',…"
      ]
     },
     "metadata": {},
     "output_type": "display_data"
    }
   ],
   "source": [
    "test.visual_summary()"
   ]
  },
  {
   "cell_type": "markdown",
   "metadata": {},
   "source": [
    "## MFT - Language prompt with accurate response\n",
    "\n",
    "Let's make our test a little stricter to better understand the model's behavior. We will now require the model to respond with the correct language instead of any language in general. To simplify the logic, we will limit the prompts to use specific countries. By using the `meta=True` argument for `editor.template()`, the country associated with the prompt will be will be stored in the `country_prompts` object.\n"
   ]
  },
  {
   "cell_type": "code",
   "execution_count": 23,
   "metadata": {},
   "outputs": [],
   "source": [
    "country_prompts = editor.template(\"In {country} the most commonly spoken language is \", country = [\"United States\", \"France\", \"Guatemala\", \"Mongolia\", \"Japan\"], meta=True)\n",
    "correct_responses = {\n",
    "    \"United States\": \"English\",\n",
    "    \"France\": \"French\",\n",
    "    \"Guatemala\": \"Spanish\",\n",
    "    \"Mongolia\": \"Mongolian\",\n",
    "    \"Japan\": \"Japanese\"\n",
    "}"
   ]
  },
  {
   "cell_type": "markdown",
   "metadata": {},
   "source": [
    "The country metadata can be accessed with `country_prompts.meta`."
   ]
  },
  {
   "cell_type": "code",
   "execution_count": 24,
   "metadata": {},
   "outputs": [
    {
     "data": {
      "text/plain": [
       "[{'country': 'United States'},\n",
       " {'country': 'France'},\n",
       " {'country': 'Guatemala'},\n",
       " {'country': 'Mongolia'},\n",
       " {'country': 'Japan'}]"
      ]
     },
     "execution_count": 24,
     "metadata": {},
     "output_type": "execute_result"
    }
   ],
   "source": [
    "country_prompts.meta"
   ]
  },
  {
   "cell_type": "markdown",
   "metadata": {},
   "source": [
    "### Handwritten Test"
   ]
  },
  {
   "cell_type": "code",
   "execution_count": 25,
   "metadata": {},
   "outputs": [],
   "source": [
    "prompts = pd.DataFrame({\"id\": [], \"prompt\": []})\n",
    "responses = pd.DataFrame({\"id\": [], \"response\": []})\n",
    "test_results = pd.DataFrame({\"id\": [], \"p/f\": []})\n",
    "\n",
    "model_responses = generate_sentences(country_prompts.data)\n",
    "\n",
    "for (i, response) in enumerate(model_responses):\n",
    "    pf = 'fail'\n",
    "    country = country_prompts.meta[i][\"country\"]\n",
    "    \n",
    "    # Check if the correct language is in the response\n",
    "    language = correct_responses[country]\n",
    "    if language in response:\n",
    "        pf = 'pass'\n",
    "\n",
    "    prompts = prompts.append({\"id\": i, \"prompt\": country_prompts.data[i]}, ignore_index=True)\n",
    "    responses = responses.append({\"id\": i, \"response\": response}, ignore_index=True)\n",
    "    test_results = test_results.append({\"id\": i, \"p/f\": pf}, ignore_index=True)\n"
   ]
  },
  {
   "cell_type": "markdown",
   "metadata": {},
   "source": [
    "#### Show test results\n",
    "Let's look at our test results. The first dataframe contains the prompts given to the model."
   ]
  },
  {
   "cell_type": "code",
   "execution_count": 26,
   "metadata": {},
   "outputs": [
    {
     "data": {
      "text/html": [
       "<div>\n",
       "<style scoped>\n",
       "    .dataframe tbody tr th:only-of-type {\n",
       "        vertical-align: middle;\n",
       "    }\n",
       "\n",
       "    .dataframe tbody tr th {\n",
       "        vertical-align: top;\n",
       "    }\n",
       "\n",
       "    .dataframe thead th {\n",
       "        text-align: right;\n",
       "    }\n",
       "</style>\n",
       "<table border=\"1\" class=\"dataframe\">\n",
       "  <thead>\n",
       "    <tr style=\"text-align: right;\">\n",
       "      <th></th>\n",
       "      <th>id</th>\n",
       "      <th>prompt</th>\n",
       "    </tr>\n",
       "  </thead>\n",
       "  <tbody>\n",
       "    <tr>\n",
       "      <th>0</th>\n",
       "      <td>0.0</td>\n",
       "      <td>In United States the most commonly spoken language is</td>\n",
       "    </tr>\n",
       "    <tr>\n",
       "      <th>1</th>\n",
       "      <td>1.0</td>\n",
       "      <td>In France the most commonly spoken language is</td>\n",
       "    </tr>\n",
       "    <tr>\n",
       "      <th>2</th>\n",
       "      <td>2.0</td>\n",
       "      <td>In Guatemala the most commonly spoken language is</td>\n",
       "    </tr>\n",
       "    <tr>\n",
       "      <th>3</th>\n",
       "      <td>3.0</td>\n",
       "      <td>In Mongolia the most commonly spoken language is</td>\n",
       "    </tr>\n",
       "    <tr>\n",
       "      <th>4</th>\n",
       "      <td>4.0</td>\n",
       "      <td>In Japan the most commonly spoken language is</td>\n",
       "    </tr>\n",
       "  </tbody>\n",
       "</table>\n",
       "</div>"
      ],
      "text/plain": [
       "    id                                                  prompt\n",
       "0  0.0  In United States the most commonly spoken language is \n",
       "1  1.0         In France the most commonly spoken language is \n",
       "2  2.0      In Guatemala the most commonly spoken language is \n",
       "3  3.0       In Mongolia the most commonly spoken language is \n",
       "4  4.0          In Japan the most commonly spoken language is "
      ]
     },
     "execution_count": 26,
     "metadata": {},
     "output_type": "execute_result"
    }
   ],
   "source": [
    "prompts"
   ]
  },
  {
   "cell_type": "markdown",
   "metadata": {},
   "source": [
    "The next dataframe shows the model's response to the prompt (not including the prompt itself)"
   ]
  },
  {
   "cell_type": "code",
   "execution_count": 27,
   "metadata": {},
   "outputs": [
    {
     "data": {
      "text/html": [
       "<div>\n",
       "<style scoped>\n",
       "    .dataframe tbody tr th:only-of-type {\n",
       "        vertical-align: middle;\n",
       "    }\n",
       "\n",
       "    .dataframe tbody tr th {\n",
       "        vertical-align: top;\n",
       "    }\n",
       "\n",
       "    .dataframe thead th {\n",
       "        text-align: right;\n",
       "    }\n",
       "</style>\n",
       "<table border=\"1\" class=\"dataframe\">\n",
       "  <thead>\n",
       "    <tr style=\"text-align: right;\">\n",
       "      <th></th>\n",
       "      <th>id</th>\n",
       "      <th>response</th>\n",
       "    </tr>\n",
       "  </thead>\n",
       "  <tbody>\n",
       "    <tr>\n",
       "      <th>0</th>\n",
       "      <td>0.0</td>\n",
       "      <td>vernacular.\\n\\nA native of Mexico City, Calif., the people of Guatemala have a distinct cultural identity. Their language can be pronounced in nearly every locale and is a core element of everything you</td>\n",
       "    </tr>\n",
       "    <tr>\n",
       "      <th>1</th>\n",
       "      <td>1.0</td>\n",
       "      <td>vernacularly urs, or from the early days of French settlement in the area of the French Empire. As an early member of that community of speakers, it is a local spoken, French language that</td>\n",
       "    </tr>\n",
       "    <tr>\n",
       "      <th>2</th>\n",
       "      <td>2.0</td>\n",
       "      <td>ไบโรจซ้ชิน.\\n\\nHéloïh has some of the strongest culture, so they have much in common</td>\n",
       "    </tr>\n",
       "    <tr>\n",
       "      <th>3</th>\n",
       "      <td>3.0</td>\n",
       "      <td>了争的型实的脳旅. In China a number of popular surnames are 徭鹿義学的晴</td>\n",
       "    </tr>\n",
       "    <tr>\n",
       "      <th>4</th>\n",
       "      <td>4.0</td>\n",
       "      <td>izukara, meaning \"I am.\" The English version of this word is kakun, \"my life.\"\\n\\nThe name isasu (for everything's well and good) as Japanese</td>\n",
       "    </tr>\n",
       "  </tbody>\n",
       "</table>\n",
       "</div>"
      ],
      "text/plain": [
       "    id  \\\n",
       "0  0.0   \n",
       "1  1.0   \n",
       "2  2.0   \n",
       "3  3.0   \n",
       "4  4.0   \n",
       "\n",
       "                                                                                                                                                                                                     response  \n",
       "0  vernacular.\\n\\nA native of Mexico City, Calif., the people of Guatemala have a distinct cultural identity. Their language can be pronounced in nearly every locale and is a core element of everything you  \n",
       "1                vernacularly urs, or from the early days of French settlement in the area of the French Empire. As an early member of that community of speakers, it is a local spoken, French language that  \n",
       "2                                                                                                                        ไบโรจซ้ชิน.\\n\\nHéloïh has some of the strongest culture, so they have much in common  \n",
       "3                                                                                                                                                  了争的型实的脳旅. In China a number of popular surnames are 徭鹿義学的晴  \n",
       "4                                                               izukara, meaning \"I am.\" The English version of this word is kakun, \"my life.\"\\n\\nThe name isasu (for everything's well and good) as Japanese  "
      ]
     },
     "execution_count": 27,
     "metadata": {},
     "output_type": "execute_result"
    }
   ],
   "source": [
    "responses"
   ]
  },
  {
   "cell_type": "markdown",
   "metadata": {},
   "source": [
    "The final dataframe shows the pass/fail status of the test"
   ]
  },
  {
   "cell_type": "code",
   "execution_count": 28,
   "metadata": {
    "scrolled": true
   },
   "outputs": [
    {
     "data": {
      "text/html": [
       "<div>\n",
       "<style scoped>\n",
       "    .dataframe tbody tr th:only-of-type {\n",
       "        vertical-align: middle;\n",
       "    }\n",
       "\n",
       "    .dataframe tbody tr th {\n",
       "        vertical-align: top;\n",
       "    }\n",
       "\n",
       "    .dataframe thead th {\n",
       "        text-align: right;\n",
       "    }\n",
       "</style>\n",
       "<table border=\"1\" class=\"dataframe\">\n",
       "  <thead>\n",
       "    <tr style=\"text-align: right;\">\n",
       "      <th></th>\n",
       "      <th>id</th>\n",
       "      <th>p/f</th>\n",
       "    </tr>\n",
       "  </thead>\n",
       "  <tbody>\n",
       "    <tr>\n",
       "      <th>0</th>\n",
       "      <td>0.0</td>\n",
       "      <td>fail</td>\n",
       "    </tr>\n",
       "    <tr>\n",
       "      <th>1</th>\n",
       "      <td>1.0</td>\n",
       "      <td>pass</td>\n",
       "    </tr>\n",
       "    <tr>\n",
       "      <th>2</th>\n",
       "      <td>2.0</td>\n",
       "      <td>fail</td>\n",
       "    </tr>\n",
       "    <tr>\n",
       "      <th>3</th>\n",
       "      <td>3.0</td>\n",
       "      <td>fail</td>\n",
       "    </tr>\n",
       "    <tr>\n",
       "      <th>4</th>\n",
       "      <td>4.0</td>\n",
       "      <td>pass</td>\n",
       "    </tr>\n",
       "  </tbody>\n",
       "</table>\n",
       "</div>"
      ],
      "text/plain": [
       "    id   p/f\n",
       "0  0.0  fail\n",
       "1  1.0  pass\n",
       "2  2.0  fail\n",
       "3  3.0  fail\n",
       "4  4.0  pass"
      ]
     },
     "execution_count": 28,
     "metadata": {},
     "output_type": "execute_result"
    }
   ],
   "source": [
    "test_results"
   ]
  },
  {
   "cell_type": "markdown",
   "metadata": {},
   "source": [
    "### Testing with Checklist\n",
    "Now let's run the test with Checklist. All we need is a new expectation function. The rest of the process is the same as before."
   ]
  },
  {
   "cell_type": "code",
   "execution_count": 29,
   "metadata": {},
   "outputs": [],
   "source": [
    "def response_contains_correct_language(x, pred, conf, label=None, meta=None):\n",
    "    language = meta['country']\n",
    "    return language in pred"
   ]
  },
  {
   "cell_type": "code",
   "execution_count": 30,
   "metadata": {},
   "outputs": [],
   "source": [
    "correct_language_expect_fn = Expect.single(response_contains_correct_language)"
   ]
  },
  {
   "cell_type": "code",
   "execution_count": 31,
   "metadata": {},
   "outputs": [],
   "source": [
    "test = MFT(**country_prompts, name='Correct language in response', description='The response contains the correct language for the country in the prompt.', expect=correct_language_expect_fn)"
   ]
  },
  {
   "cell_type": "code",
   "execution_count": 32,
   "metadata": {},
   "outputs": [
    {
     "name": "stdout",
     "output_type": "stream",
     "text": [
      "Predicting 5 examples\n"
     ]
    }
   ],
   "source": [
    "test.run(wrapped_generator, overwrite=True)"
   ]
  },
  {
   "cell_type": "code",
   "execution_count": 33,
   "metadata": {},
   "outputs": [
    {
     "name": "stdout",
     "output_type": "stream",
     "text": [
      "Test cases:      5\n",
      "Fails (rate):    3 (60.0%)\n",
      "\n",
      "Example fails:\n",
      "Prompt:      In United States the most commonly spoken language is \n",
      "Completion:      ઁ੍ರ౦ྂడ் (or ไหม๊โป) so �\n",
      "----\n",
      "Prompt:      In Guatemala the most commonly spoken language is \n",
      "Completion:      vernacular, with some people even pronouncing their own names. They are a group whose numbers are roughly equal in number.\n",
      "\n",
      "An \"a\" is an acronym for \"an organization of employees in\n",
      "----\n",
      "Prompt:      In France the most commonly spoken language is \n",
      "Completion:      vernacular, while the French equivalent is French, but French-speaking people are more literate than at French most others.\n",
      "\n",
      "French is the third most common language in Europe, followed by Portuguese,\n",
      "----\n"
     ]
    }
   ],
   "source": [
    "test.summary(format_example_fn = format_example)"
   ]
  },
  {
   "cell_type": "code",
   "execution_count": 34,
   "metadata": {},
   "outputs": [
    {
     "data": {
      "application/vnd.jupyter.widget-view+json": {
       "model_id": "c2d6f0a6cb3e4ee2aa40f525e48c118a",
       "version_major": 2,
       "version_minor": 0
      },
      "text/plain": [
       "TestSummarizer(stats={'npassed': 2, 'nfailed': 3, 'nfiltered': 0}, summarizer={'name': 'Correct language in re…"
      ]
     },
     "metadata": {},
     "output_type": "display_data"
    }
   ],
   "source": [
    "test.visual_summary()"
   ]
  },
  {
   "cell_type": "code",
   "execution_count": null,
   "metadata": {},
   "outputs": [],
   "source": []
  }
 ],
 "metadata": {
  "kernelspec": {
   "display_name": "Python 3",
   "language": "python",
   "name": "python3"
  },
  "language_info": {
   "codemirror_mode": {
    "name": "ipython",
    "version": 3
   },
   "file_extension": ".py",
   "mimetype": "text/x-python",
   "name": "python",
   "nbconvert_exporter": "python",
   "pygments_lexer": "ipython3",
   "version": "3.8.10"
  }
 },
 "nbformat": 4,
 "nbformat_minor": 4
}
