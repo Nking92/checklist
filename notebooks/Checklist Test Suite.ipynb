{
 "cells": [
  {
   "cell_type": "code",
   "execution_count": 1,
   "metadata": {},
   "outputs": [],
   "source": [
    "import torch\n",
    "from transformers import GPT2Tokenizer, GPT2LMHeadModel\n",
    "import pandas as pd\n",
    "import random\n",
    "import json\n",
    "import checklist\n",
    "from checklist.editor import Editor\n",
    "from checklist.expect import Expect\n",
    "from checklist.pred_wrapper import PredictorWrapper\n",
    "from checklist.test_types import MFT\n",
    "from checklist.test_suite import TestSuite\n",
    "from torch.nn import functional as F\n",
    "from typing import List\n",
    "import warnings\n",
    "warnings.filterwarnings('ignore')"
   ]
  },
  {
   "cell_type": "code",
   "execution_count": 2,
   "metadata": {},
   "outputs": [
    {
     "data": {
      "text/plain": [
       "<torch._C.Generator at 0x7fc2e9766110>"
      ]
     },
     "execution_count": 2,
     "metadata": {},
     "output_type": "execute_result"
    }
   ],
   "source": [
    "# Initialize random seed\n",
    "# Remove this code to experiment with random samples\n",
    "random.seed(123)\n",
    "torch.manual_seed(456)"
   ]
  },
  {
   "cell_type": "code",
   "execution_count": 3,
   "metadata": {},
   "outputs": [
    {
     "data": {
      "text/plain": [
       "'Model loaded'"
      ]
     },
     "execution_count": 3,
     "metadata": {},
     "output_type": "execute_result"
    }
   ],
   "source": [
    "# Load pretrained model tokenizer\n",
    "tokenizer = GPT2Tokenizer.from_pretrained('gpt2')\n",
    "# Load pretrained model (weights)\n",
    "model = GPT2LMHeadModel.from_pretrained(\"gpt2\", pad_token_id=tokenizer.eos_token_id)\n",
    "device = 'cuda'\n",
    "model.eval()\n",
    "model.to(device)\n",
    "\"Model loaded\""
   ]
  },
  {
   "cell_type": "markdown",
   "metadata": {},
   "source": [
    "# Creating a Test Suite\n",
    "\n",
    "Checklist can run multiple tests in a test suite. Tests can be grouped by capability and results can be explored in a visual table.\n",
    "\n",
    "We will create a test suite called 'Same Token Prediction' with 3 MFTs. Each MFT will test if the token substituted into the prompt template also appears in the generated text.\n",
    "\n",
    "For example, if we prompt the model with `The {animal} is running in the zoo` and the model responds with `The {animal} looks very happy`, then it passes the test because the same animal appears in the model's response.\n",
    "\n",
    "## Creating the MFTs\n",
    "### MFT 1: Same animal appears in response"
   ]
  },
  {
   "cell_type": "code",
   "execution_count": 4,
   "metadata": {
    "scrolled": true
   },
   "outputs": [
    {
     "data": {
      "text/plain": [
       "['The dog is running in the zoo',\n",
       " 'The cat is running in the zoo',\n",
       " 'The giraffe is running in the zoo',\n",
       " 'The aardvark is running in the zoo']"
      ]
     },
     "execution_count": 4,
     "metadata": {},
     "output_type": "execute_result"
    }
   ],
   "source": [
    "editor = Editor()\n",
    "animal_prompts = editor.template(\"The {animal} is running in the zoo\", animal=[\"dog\", \"cat\", \"giraffe\", \"aardvark\"], meta=True)\n",
    "animal_prompts.data"
   ]
  },
  {
   "cell_type": "code",
   "execution_count": 5,
   "metadata": {},
   "outputs": [],
   "source": [
    "def contains_same_animal(x, pred, conf, label=None, meta=None):\n",
    "    return meta['animal'] in pred"
   ]
  },
  {
   "cell_type": "code",
   "execution_count": 6,
   "metadata": {},
   "outputs": [],
   "source": [
    "same_animal_expect_fn = Expect.single(contains_same_animal)\n",
    "same_animal_test = MFT(**animal_prompts, name='Same animal in response', description='The response contains the same animal mentioned in the prompt.', expect=same_animal_expect_fn)"
   ]
  },
  {
   "cell_type": "markdown",
   "metadata": {},
   "source": [
    "### MFT 2: Same country appears in response"
   ]
  },
  {
   "cell_type": "code",
   "execution_count": 7,
   "metadata": {},
   "outputs": [
    {
     "data": {
      "text/plain": [
       "MunchWithAdd({'meta': [{'country': 'Kyrgyzstan'}, {'country': 'Nauru'}, {'country': 'Turkmenistan'}, {'country': 'Honduras'}, {'country': 'Fiji'}, {'country': 'Mexico'}, {'country': 'Turkmenistan'}, {'country': 'Mauritania'}, {'country': 'Tajikistan'}, {'country': 'Niger'}], 'data': ['I want to travel to Kyrgyzstan next year.', 'I want to travel to Nauru next year.', 'I want to travel to Turkmenistan next year.', 'I want to travel to Honduras next year.', 'I want to travel to Fiji next year.', 'I want to travel to Mexico next year.', 'I want to travel to Turkmenistan next year.', 'I want to travel to Mauritania next year.', 'I want to travel to Tajikistan next year.', 'I want to travel to Niger next year.']})"
      ]
     },
     "execution_count": 7,
     "metadata": {},
     "output_type": "execute_result"
    }
   ],
   "source": [
    "country_prompts = editor.template(\"I want to travel to {country} next year.\", meta=True, nsamples=10)\n",
    "country_prompts"
   ]
  },
  {
   "cell_type": "code",
   "execution_count": 8,
   "metadata": {},
   "outputs": [],
   "source": [
    "def contains_same_country(x, pred, conf, label=None, meta=None):\n",
    "    return meta['country'] in pred"
   ]
  },
  {
   "cell_type": "code",
   "execution_count": 9,
   "metadata": {},
   "outputs": [],
   "source": [
    "same_country_expect_fn = Expect.single(contains_same_country)\n",
    "same_country_test = MFT(**country_prompts, name='Same country in response', description='The response contains the same country mentioned in the prompt.', expect=same_country_expect_fn)"
   ]
  },
  {
   "cell_type": "markdown",
   "metadata": {},
   "source": [
    "### MFT 3: Same person appears in response"
   ]
  },
  {
   "cell_type": "code",
   "execution_count": 10,
   "metadata": {},
   "outputs": [
    {
     "data": {
      "text/plain": [
       "MunchWithAdd({'meta': [{'first_name': 'Harry'}, {'first_name': 'Marilyn'}, {'first_name': 'Leslie'}, {'first_name': 'Emma'}, {'first_name': 'Maria'}, {'first_name': 'Frederick'}, {'first_name': 'Frederick'}, {'first_name': 'Alice'}, {'first_name': 'Kathryn'}, {'first_name': 'Colin'}], 'data': ['Harry is my best friend.', 'Marilyn is my best friend.', 'Leslie is my best friend.', 'Emma is my best friend.', 'Maria is my best friend.', 'Frederick is my best friend.', 'Frederick is my best friend.', 'Alice is my best friend.', 'Kathryn is my best friend.', 'Colin is my best friend.']})"
      ]
     },
     "execution_count": 10,
     "metadata": {},
     "output_type": "execute_result"
    }
   ],
   "source": [
    "person_prompts = editor.template(\"{first_name} is my best friend.\", meta=True, nsamples=10)\n",
    "person_prompts"
   ]
  },
  {
   "cell_type": "code",
   "execution_count": 11,
   "metadata": {},
   "outputs": [],
   "source": [
    "def contains_same_person(x, pred, conf, label=None, meta=None):\n",
    "    return meta['first_name'] in pred"
   ]
  },
  {
   "cell_type": "code",
   "execution_count": 12,
   "metadata": {},
   "outputs": [],
   "source": [
    "same_person_expect_fn = Expect.single(contains_same_person)\n",
    "same_person_test = MFT(**person_prompts, name='Same person in response', description='The response contains the same person\\'s first name mentioned in the prompt.', expect=same_person_expect_fn)"
   ]
  },
  {
   "cell_type": "markdown",
   "metadata": {},
   "source": [
    "## Adding the tests to the suite\n",
    "An empty test suite can be created by calling the `TestSuite()` constructor. Tests can be added one by one using `suite.add(test)`. The optional `capability` parameter can be used to label and group tests that test similar capabilities. In this case, we will name the capability \"Same Token Prediction\""
   ]
  },
  {
   "cell_type": "code",
   "execution_count": 13,
   "metadata": {},
   "outputs": [],
   "source": [
    "suite = TestSuite()"
   ]
  },
  {
   "cell_type": "code",
   "execution_count": 14,
   "metadata": {},
   "outputs": [],
   "source": [
    "suite.add(same_animal_test, capability=\"Same Token Prediction\")\n",
    "suite.add(same_country_test, capability=\"Same Token Prediction\")\n",
    "suite.add(same_person_test, capability=\"Same Token Prediction\")"
   ]
  },
  {
   "cell_type": "code",
   "execution_count": 15,
   "metadata": {},
   "outputs": [],
   "source": [
    "def generate_sentence(prompt: str) -> str:\n",
    "    token_tensor = tokenizer.encode(prompt, return_tensors='pt').to(device) # return_tensors = \"pt\" returns a PyTorch tensor\n",
    "    out = model.generate(\n",
    "        token_tensor,\n",
    "        do_sample=True,\n",
    "        min_length=10,\n",
    "        max_length=50,\n",
    "        num_beams=1,\n",
    "        temperature=1.0,\n",
    "        no_repeat_ngram_size=2,\n",
    "        early_stopping=False,\n",
    "        output_scores=True,\n",
    "        return_dict_in_generate=True)\n",
    "    text = tokenizer.decode(out.sequences[0], skip_special_tokens=True)\n",
    "    return text[len(prompt):]"
   ]
  },
  {
   "cell_type": "code",
   "execution_count": 16,
   "metadata": {},
   "outputs": [],
   "source": [
    "def generate_sentences(prompts: List[str]) -> List[str]:\n",
    "    sentences = []\n",
    "    for prompt in prompts:\n",
    "        sentences.append(generate_sentence(prompt))\n",
    "    return sentences"
   ]
  },
  {
   "cell_type": "code",
   "execution_count": 17,
   "metadata": {},
   "outputs": [],
   "source": [
    "wrapped_generator = PredictorWrapper.wrap_predict(generate_sentences)"
   ]
  },
  {
   "cell_type": "code",
   "execution_count": 18,
   "metadata": {
    "scrolled": true
   },
   "outputs": [
    {
     "name": "stdout",
     "output_type": "stream",
     "text": [
      "Running Same animal in response\n",
      "Predicting 4 examples\n",
      "Running Same country in response\n",
      "Predicting 10 examples\n",
      "Running Same person in response\n",
      "Predicting 10 examples\n"
     ]
    }
   ],
   "source": [
    "suite.run(wrapped_generator, overwrite=True)"
   ]
  },
  {
   "cell_type": "code",
   "execution_count": 19,
   "metadata": {},
   "outputs": [],
   "source": [
    "def format_example(x, pred, conf, label=None, meta=None): \n",
    "    return 'Prompt:      %s\\nCompletion:      %s' % (x, pred) "
   ]
  },
  {
   "cell_type": "code",
   "execution_count": 20,
   "metadata": {
    "scrolled": false
   },
   "outputs": [
    {
     "name": "stdout",
     "output_type": "stream",
     "text": [
      "Same Token Prediction\n",
      "\n",
      "Same animal in response\n",
      "Test cases:      4\n",
      "Fails (rate):    2 (50.0%)\n",
      "\n",
      "Example fails:\n",
      "Prompt:      The giraffe is running in the zoo\n",
      "Completion:       in Bordeaux.\n",
      "\n",
      "French President Emmanuel Macron on Saturday met with his French counterpart Francois Hollande at the Elysee Palace. Macron said: \"France would be a great place to work together for our children\n",
      "----\n",
      "Prompt:      The aardvark is running in the zoo\n",
      "Completion:      . The aldvarks are getting closer and closer to us.\n",
      "\n",
      "\n",
      "The last two weeks or so, my little team-mates and I have been doing an amazing job. A year ago\n",
      "----\n",
      "\n",
      "\n",
      "Same country in response\n",
      "Test cases:      10\n",
      "Fails (rate):    8 (80.0%)\n",
      "\n",
      "Example fails:\n",
      "Prompt:      I want to travel to Tajikistan next year.\n",
      "Completion:       I want my visa,\" he wrote in what he thought would be an impromptu email exchange with a series of Russian expatriates who lived in London.The US has provided funding for Russia's\n",
      "----\n",
      "Prompt:      I want to travel to Turkmenistan next year.\n",
      "Completion:       I see you there.\"\n",
      "\n",
      "A few days of my visit, the police arrived in front of the couple and let them into the house. No one was there. \"A foreigner living there\n",
      "----\n",
      "Prompt:      I want to travel to Turkmenistan next year.\n",
      "Completion:       We want this to happen.\n",
      "\n",
      "\"I'll work there and, hopefully, I'll come back and help people,\" Ms. Mikhlomiya said. \"I also don't\n",
      "----\n",
      "\n",
      "\n",
      "Same person in response\n",
      "Test cases:      10\n",
      "Fails (rate):    10 (100.0%)\n",
      "\n",
      "Example fails:\n",
      "Prompt:      Colin is my best friend.\n",
      "Completion:      \n",
      "\n",
      "My favorite character is one who likes to be with me and be a good match for me. I will always love her.\n",
      "----\n",
      "Prompt:      Marilyn is my best friend.\n",
      "Completion:       I've been with both her parents since my late mother, and they have always been in good hands. But I think she's getting better. She's also being better than she'd ever have been, which\n",
      "----\n",
      "Prompt:      Frederick is my best friend.\n",
      "Completion:       In our past and the future, he's my greatest friend and he never lets me down.\n",
      "\n",
      "We're not living in the past; we're living very far away. He was my friend from the beginning\n",
      "----\n",
      "\n",
      "\n",
      "\n",
      "\n"
     ]
    }
   ],
   "source": [
    "suite.summary(format_example_fn = format_example)"
   ]
  },
  {
   "cell_type": "code",
   "execution_count": 21,
   "metadata": {
    "scrolled": false
   },
   "outputs": [
    {
     "name": "stdout",
     "output_type": "stream",
     "text": [
      "Please wait as we prepare the table data...\n"
     ]
    },
    {
     "data": {
      "application/vnd.jupyter.widget-view+json": {
       "model_id": "cb48cc1be32045e7bcbf4c346c3311eb",
       "version_major": 2,
       "version_minor": 0
      },
      "text/plain": [
       "SuiteSummarizer(stats={'npassed': 0, 'nfailed': 0, 'nfiltered': 0}, test_infos=[{'name': 'Same animal in respo…"
      ]
     },
     "metadata": {},
     "output_type": "display_data"
    }
   ],
   "source": [
    "suite.visual_summary_table()"
   ]
  },
  {
   "cell_type": "markdown",
   "metadata": {},
   "source": [
    "## Export suite to JSON file\n",
    "### Accessing test suite data internally\n",
    "Tests are stored in `suite.tests`, which is a dictionary mapping the test name to the test."
   ]
  },
  {
   "cell_type": "code",
   "execution_count": 22,
   "metadata": {
    "scrolled": false
   },
   "outputs": [
    {
     "name": "stdout",
     "output_type": "stream",
     "text": [
      "Same animal in response\n",
      "Same country in response\n",
      "Same person in response\n"
     ]
    }
   ],
   "source": [
    "for key in suite.tests.keys():\n",
    "    print(key)"
   ]
  },
  {
   "cell_type": "markdown",
   "metadata": {},
   "source": [
    "We can access the test information by like this:"
   ]
  },
  {
   "cell_type": "code",
   "execution_count": 23,
   "metadata": {},
   "outputs": [
    {
     "data": {
      "text/plain": [
       "['The dog is running in the zoo',\n",
       " 'The cat is running in the zoo',\n",
       " 'The giraffe is running in the zoo',\n",
       " 'The aardvark is running in the zoo']"
      ]
     },
     "execution_count": 23,
     "metadata": {},
     "output_type": "execute_result"
    }
   ],
   "source": [
    "suite.tests['Same animal in response'].data"
   ]
  },
  {
   "cell_type": "code",
   "execution_count": 24,
   "metadata": {},
   "outputs": [
    {
     "data": {
      "text/plain": [
       "[{'animal': 'dog'},\n",
       " {'animal': 'cat'},\n",
       " {'animal': 'giraffe'},\n",
       " {'animal': 'aardvark'}]"
      ]
     },
     "execution_count": 24,
     "metadata": {},
     "output_type": "execute_result"
    }
   ],
   "source": [
    "suite.tests['Same animal in response'].meta"
   ]
  },
  {
   "cell_type": "markdown",
   "metadata": {},
   "source": [
    "### Export to JSON file with to_raw_file()\n",
    "TestSuite's `to_raw_file()` function exports a test suite to a file. The `format_fn` parameter allows us to control how each example in the suite is printed to the file. We can use `format_fn` to print the examples in a JSON format."
   ]
  },
  {
   "cell_type": "code",
   "execution_count": 25,
   "metadata": {},
   "outputs": [],
   "source": [
    "def suite_to_json_file(suite, filename):\n",
    "    class Counter:\n",
    "        def __init__(self):\n",
    "            self.count = 0\n",
    "        def get_count(self):\n",
    "            self.count += 1\n",
    "            return self.count\n",
    "    \n",
    "    counter = Counter()\n",
    "    total_tests = 0\n",
    "    for t in suite.tests.values():\n",
    "        total_tests += len(t.data)\n",
    "        \n",
    "    def json_format_fn(x):\n",
    "        example_id = counter.get_count()\n",
    "        json_str = \"\"\n",
    "        if example_id == 1:\n",
    "            json_str = '{\"examples\": ['\n",
    "        json_str += json.dumps({'content': x, 'id': example_id}) + \",\"\n",
    "        if example_id == total_tests:\n",
    "            # remove trailing comma\n",
    "            json_str = json_str[:len(json_str)-1]\n",
    "            json_str += \"]}\"\n",
    "        return json_str\n",
    "    \n",
    "    suite.to_raw_file(filename, format_fn = json_format_fn)"
   ]
  },
  {
   "cell_type": "code",
   "execution_count": 26,
   "metadata": {},
   "outputs": [],
   "source": [
    "suite_to_json_file(suite, 'same_token_suite.json')"
   ]
  },
  {
   "cell_type": "code",
   "execution_count": 27,
   "metadata": {
    "scrolled": false
   },
   "outputs": [
    {
     "name": "stdout",
     "output_type": "stream",
     "text": [
      "{\"examples\": [{\"content\": \"The dog is running in the zoo\", \"id\": 1},\r\n",
      "{\"content\": \"The cat is running in the zoo\", \"id\": 2},\r\n",
      "{\"content\": \"The giraffe is running in the zoo\", \"id\": 3},\r\n",
      "{\"content\": \"The aardvark is running in the zoo\", \"id\": 4},\r\n",
      "{\"content\": \"I want to travel to Kyrgyzstan next year.\", \"id\": 5},\r\n",
      "{\"content\": \"I want to travel to Nauru next year.\", \"id\": 6},\r\n",
      "{\"content\": \"I want to travel to Turkmenistan next year.\", \"id\": 7},\r\n",
      "{\"content\": \"I want to travel to Honduras next year.\", \"id\": 8},\r\n",
      "{\"content\": \"I want to travel to Fiji next year.\", \"id\": 9},\r\n",
      "{\"content\": \"I want to travel to Mexico next year.\", \"id\": 10},\r\n",
      "{\"content\": \"I want to travel to Turkmenistan next year.\", \"id\": 11},\r\n",
      "{\"content\": \"I want to travel to Mauritania next year.\", \"id\": 12},\r\n",
      "{\"content\": \"I want to travel to Tajikistan next year.\", \"id\": 13},\r\n",
      "{\"content\": \"I want to travel to Niger next year.\", \"id\": 14},\r\n",
      "{\"content\": \"Harry is my best friend.\", \"id\": 15},\r\n",
      "{\"content\": \"Marilyn is my best friend.\", \"id\": 16},\r\n",
      "{\"content\": \"Leslie is my best friend.\", \"id\": 17},\r\n",
      "{\"content\": \"Emma is my best friend.\", \"id\": 18},\r\n",
      "{\"content\": \"Maria is my best friend.\", \"id\": 19},\r\n",
      "{\"content\": \"Frederick is my best friend.\", \"id\": 20},\r\n",
      "{\"content\": \"Frederick is my best friend.\", \"id\": 21},\r\n",
      "{\"content\": \"Alice is my best friend.\", \"id\": 22},\r\n",
      "{\"content\": \"Kathryn is my best friend.\", \"id\": 23},\r\n",
      "{\"content\": \"Colin is my best friend.\", \"id\": 24}]}"
     ]
    }
   ],
   "source": [
    "cat 'same_token_suite.json'"
   ]
  },
  {
   "cell_type": "markdown",
   "metadata": {},
   "source": [
    "## Importing the JSON\n",
    "The JSON file we created can be imported back into a Python object by using `json.load()`."
   ]
  },
  {
   "cell_type": "code",
   "execution_count": 28,
   "metadata": {
    "scrolled": true
   },
   "outputs": [
    {
     "data": {
      "text/plain": [
       "[{'content': 'The dog is running in the zoo', 'id': 1},\n",
       " {'content': 'The cat is running in the zoo', 'id': 2},\n",
       " {'content': 'The giraffe is running in the zoo', 'id': 3}]"
      ]
     },
     "execution_count": 28,
     "metadata": {},
     "output_type": "execute_result"
    }
   ],
   "source": [
    "import json\n",
    "f = open('same_token_suite.json', 'r')\n",
    "suite_dict = json.load(f)\n",
    "f.close()\n",
    "suite_dict['examples'][0:3]"
   ]
  },
  {
   "cell_type": "markdown",
   "metadata": {},
   "source": [
    "## Generating predictions from the loaded data\n",
    "Our data has been loaded into a variable named `suite_dict`. Now we can read each example from `suite_dict` and generate the predictions. Each prediction will be written to another file named `same_token_suite_predictions.json`."
   ]
  },
  {
   "cell_type": "code",
   "execution_count": 29,
   "metadata": {},
   "outputs": [],
   "source": [
    "with open('same_token_suite_predictions.json', 'w') as f:\n",
    "    for example in suite_dict['examples']:\n",
    "        prediction = generate_sentence(example['content'])\n",
    "        prediction = prediction.replace('\"', '\\\"')\n",
    "        f.write(json.dumps({'prediction': prediction, 'id': example['id']}) + '\\n')"
   ]
  },
  {
   "cell_type": "code",
   "execution_count": 30,
   "metadata": {
    "scrolled": false
   },
   "outputs": [
    {
     "name": "stdout",
     "output_type": "stream",
     "text": [
      "{\"prediction\": \",\\\" says David, now a veterinary nurse who lives on the other side of the fence where the dog lived, on his balcony overlooking a stream that feeds the creek and a forest. \\\"I've seen many of her\", \"id\": 1}\r\n",
      "{\"prediction\": \".\\n\\nIf you need to make it back to school, it'll be a simple matter to bring a kitten to play with you. In fact, if you are in a place where you will be putting another\", \"id\": 2}\r\n",
      "{\"prediction\": \". She's pretty well groomed. The only thing that's missing is the cat. I think the cats have been working really hard over the summer to put their hands up, not to hurt the giraff\", \"id\": 3}\r\n",
      "{\"prediction\": \". The aardo is doing great to protect us,\\\" said Dr Robert McCracken, Director of Public Health and Environment at the University of Colorado; \\\"We have to do some better research to help\", \"id\": 4}\r\n",
      "{\"prediction\": \" In my mind, it's not the same with Azerbaijan, since they have a long and difficult history with those countries.\\n\\nBolushev: When you talk about Azerbaijan \\u2013\", \"id\": 5}\r\n",
      "{\"prediction\": \"\\n\\nI'm also very lucky. My wife and I have a beautiful son, a 16-year-old girl, and two of our best friends and a 14-and-a-\", \"id\": 6}\r\n",
      "{\"prediction\": \" In the future we will be able to help you with our services, but the time frame is short.\\\"\\n\\n\\nTakir, who has been a volunteer with the Afghan Defense Ministry since 1993\", \"id\": 7}\r\n",
      "{\"prediction\": \" The only thing I don't want in the world is to leave the United States and go to Asia. I want an escape for the future,\\\" she says of her journey.\\n\\nShe has been making\", \"id\": 8}\r\n",
      "{\"prediction\": \" My mother is a pretty big person and wants me to stay with her. We met up at the weekend but we didn\\u00b4t go into Fiji until two days before the Grand Final. And of course we\", \"id\": 9}\r\n",
      "{\"prediction\": \" My daughter is going to Colorado Springs. And I'd like to go to Peru. Our friends are going in there too. We're just doing some traveling next summer.\\n\\n\\\"Why would I choose\", \"id\": 10}\r\n",
      "{\"prediction\": \" I really like Turkmans,\\\" he insisted in a interview here.\\n\\n\\\"I am going forward with an open mind. It's about getting there by myself, not only in terms of travel\", \"id\": 11}\r\n",
      "{\"prediction\": \" And I want my friends to know about the benefits of traveling.\\\"\\n\\nFor years, they are doing just that.\\n, with the help of several former military junta members who are now in\", \"id\": 12}\r\n",
      "{\"prediction\": \"\\n\\n(Image: Flickr user David Miller)\\n (Image by Flickr User David Moseley)\", \"id\": 13}\r\n",
      "{\"prediction\": \" In five short months, if I can do it in 2 years I'd be at the second grade. I have no friends or family nearby.\\n\\nMy grandmother had cancer, I'm pretty sure and\", \"id\": 14}\r\n",
      "{\"prediction\": \" My mom thinks I'm crazy.\\\" That same day, as we were going out for dinner in her new house, she noticed a man standing outside the window who looked a bit like my dad, with a huge beard and\", \"id\": 15}\r\n",
      "{\"prediction\": \" I'm really good in the art of writing, which would be a shame. A couple of years back I was given some of my first assignments in that role. She was teaching the story to a small group\", \"id\": 16}\r\n",
      "{\"prediction\": \" I would tell you that even when I was talking to him, I had no idea that I loved him so much. After being with him for three years, he would finally meet me and we got along like we\", \"id\": 17}\r\n",
      "{\"prediction\": \" Her hair is curly and beautiful. You can tell that her face is different in different places...\", \"id\": 18}\r\n",
      "{\"prediction\": \" I don't know what to do.\\\"\\n\\nShe smiled.\\n;(l) ;(z)\\n. ;;i ;\\n\\\"Okay, but what did you mean?\\\" \\\"A good first impression.\", \"id\": 19}\r\n",
      "{\"prediction\": \" I know everything about him and his passion for his daughter.\\\" He said that he wanted to ask someone to send him a copy of his book.\\n\\n\\\"This is the biggest shock and awe I have experienced in\", \"id\": 20}\r\n",
      "{\"prediction\": \" We've known each other since I was a kid. He loves to sit with me on our second date. Whenever I'd go out it would be to the park in a park to watch all of the different shows\", \"id\": 21}\r\n",
      "{\"prediction\": \" I'm really surprised at the lack of a girlfriend. It's been a long time since she has had an orgasm. Even a lot of guys do find her sexy at times, especially in the presence of that guy I\", \"id\": 22}\r\n",
      "{\"prediction\": \" She has been through so much. We spent a lot. When we first meet we were very protective of each other. But we are close. He is her best-loved dad because he was always there\", \"id\": 23}\r\n",
      "{\"prediction\": \" He knows why I'm here. I am afraid of him.\\n\\nWhen I was in school it was on Saturday nights at 8 pm, so we would come back from school at 9 pm or 10 pm to\", \"id\": 24}\r\n"
     ]
    }
   ],
   "source": [
    "cat 'same_token_suite_predictions.json'"
   ]
  },
  {
   "cell_type": "markdown",
   "metadata": {},
   "source": [
    "## Read results from file\n",
    "TestSuite has a `run_from_file()` function that reads the predictions line by line from a file. The `format_fn` parameter allows us to parse each line of the file. We need to return the predicted text without the JSON formatting."
   ]
  },
  {
   "cell_type": "code",
   "execution_count": 31,
   "metadata": {},
   "outputs": [],
   "source": [
    "def read_json_prediction(x):\n",
    "    test_output = json.load(x)\n",
    "    return test_output['prediction']\n",
    "suite.run_from_file('same_token_suite_predictions.json', file_format='pred_only', format_fn = read_json_prediction, overwrite=True)"
   ]
  },
  {
   "cell_type": "code",
   "execution_count": 32,
   "metadata": {
    "scrolled": false
   },
   "outputs": [
    {
     "name": "stdout",
     "output_type": "stream",
     "text": [
      "Same Token Prediction\n",
      "\n",
      "Same animal in response\n",
      "Test cases:      4\n",
      "Fails (rate):    3 (75.0%)\n",
      "\n",
      "Example fails:\n",
      "{\"prediction\": \". The aardo is doing great to protect us,\\\" said Dr Robert McCracken, Director of Public Health and Environment at the University of Colorado; \\\"We have to do some better research to help\", \"id\": 4} The aardvark is running in the zoo\n",
      "----\n",
      "{\"prediction\": \".\\n\\nIf you need to make it back to school, it'll be a simple matter to bring a kitten to play with you. In fact, if you are in a place where you will be putting another\", \"id\": 2} The cat is running in the zoo\n",
      "----\n",
      "{\"prediction\": \". She's pretty well groomed. The only thing that's missing is the cat. I think the cats have been working really hard over the summer to put their hands up, not to hurt the giraff\", \"id\": 3} The giraffe is running in the zoo\n",
      "----\n",
      "\n",
      "\n",
      "Same country in response\n",
      "Test cases:      10\n",
      "Fails (rate):    9 (90.0%)\n",
      "\n",
      "Example fails:\n",
      "{\"prediction\": \"\\n\\n(Image: Flickr user David Miller)\\n (Image by Flickr User David Moseley)\", \"id\": 13} I want to travel to Tajikistan next year.\n",
      "----\n",
      "{\"prediction\": \"\\n\\nI'm also very lucky. My wife and I have a beautiful son, a 16-year-old girl, and two of our best friends and a 14-and-a-\", \"id\": 6} I want to travel to Nauru next year.\n",
      "----\n",
      "{\"prediction\": \" And I want my friends to know about the benefits of traveling.\\\"\\n\\nFor years, they are doing just that.\\n, with the help of several former military junta members who are now in\", \"id\": 12} I want to travel to Mauritania next year.\n",
      "----\n",
      "\n",
      "\n",
      "Same person in response\n",
      "Test cases:      10\n",
      "Fails (rate):    10 (100.0%)\n",
      "\n",
      "Example fails:\n",
      "{\"prediction\": \" I would tell you that even when I was talking to him, I had no idea that I loved him so much. After being with him for three years, he would finally meet me and we got along like we\", \"id\": 17} Leslie is my best friend.\n",
      "----\n",
      "{\"prediction\": \" We've known each other since I was a kid. He loves to sit with me on our second date. Whenever I'd go out it would be to the park in a park to watch all of the different shows\", \"id\": 21} Frederick is my best friend.\n",
      "----\n",
      "{\"prediction\": \" I'm really surprised at the lack of a girlfriend. It's been a long time since she has had an orgasm. Even a lot of guys do find her sexy at times, especially in the presence of that guy I\", \"id\": 22} Alice is my best friend.\n",
      "----\n",
      "\n",
      "\n",
      "\n",
      "\n"
     ]
    }
   ],
   "source": [
    "suite.summary()"
   ]
  },
  {
   "cell_type": "code",
   "execution_count": 33,
   "metadata": {},
   "outputs": [
    {
     "name": "stdout",
     "output_type": "stream",
     "text": [
      "Please wait as we prepare the table data...\n"
     ]
    },
    {
     "data": {
      "application/vnd.jupyter.widget-view+json": {
       "model_id": "d4853159d59c475282dc86473d4bf559",
       "version_major": 2,
       "version_minor": 0
      },
      "text/plain": [
       "SuiteSummarizer(stats={'npassed': 0, 'nfailed': 0, 'nfiltered': 0}, test_infos=[{'name': 'Same animal in respo…"
      ]
     },
     "metadata": {},
     "output_type": "display_data"
    }
   ],
   "source": [
    "suite.visual_summary_table()"
   ]
  }
 ],
 "metadata": {
  "kernelspec": {
   "display_name": "Python 3",
   "language": "python",
   "name": "python3"
  },
  "language_info": {
   "codemirror_mode": {
    "name": "ipython",
    "version": 3
   },
   "file_extension": ".py",
   "mimetype": "text/x-python",
   "name": "python",
   "nbconvert_exporter": "python",
   "pygments_lexer": "ipython3",
   "version": "3.8.10"
  }
 },
 "nbformat": 4,
 "nbformat_minor": 4
}
