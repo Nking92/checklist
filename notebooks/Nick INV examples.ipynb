{
 "cells": [
  {
   "cell_type": "code",
   "execution_count": 1,
   "metadata": {},
   "outputs": [],
   "source": [
    "import torch\n",
    "from transformers import GPT2Tokenizer, GPT2LMHeadModel\n",
    "import pandas as pd\n",
    "import checklist\n",
    "from checklist.editor import Editor\n",
    "from checklist.expect import Expect\n",
    "from checklist.perturb import Perturb\n",
    "from checklist.test_types import INV, MFT\n",
    "from torch.nn import functional as F\n",
    "import warnings\n",
    "warnings.filterwarnings('ignore')"
   ]
  },
  {
   "cell_type": "code",
   "execution_count": 2,
   "metadata": {},
   "outputs": [],
   "source": [
    "editor = Editor()"
   ]
  },
  {
   "cell_type": "code",
   "execution_count": 3,
   "metadata": {},
   "outputs": [],
   "source": [
    "prompts = editor.template('{first_name}\\'s favorite sport is')"
   ]
  },
  {
   "cell_type": "code",
   "execution_count": 4,
   "metadata": {},
   "outputs": [],
   "source": [
    "# Load pretrained model tokenizer (vocabulary)\n",
    "tokenizer = GPT2Tokenizer.from_pretrained('gpt2')\n",
    "\n",
    "# Load pretrained model (weights)\n",
    "model = GPT2LMHeadModel.from_pretrained(\"gpt2\", pad_token_id=tokenizer.eos_token_id)"
   ]
  },
  {
   "cell_type": "code",
   "execution_count": 5,
   "metadata": {},
   "outputs": [],
   "source": [
    "def generate_sentence(tok, mdl, prompt, max_length=150, device='cuda') -> str:\n",
    "    tok_tensor = tok.encode(prompt, return_tensors='pt').to(device) # return_tensors = \"pt\" returns a PyTorch tensor\n",
    "    mdl.eval()\n",
    "    mdl.to(device)\n",
    "    out = mdl.generate(tok_tensor, max_length=max_length, num_beams=5, no_repeat_ngram_size=2, early_stopping=True, output_scores=True, return_dict_in_generate=True)\n",
    "    text = tok.decode(out.sequences[0], skip_special_tokens=True)\n",
    "    scores = out.scores[0]\n",
    "    return {\"text\": text, \"scores\": scores}"
   ]
  },
  {
   "cell_type": "code",
   "execution_count": 6,
   "metadata": {
    "scrolled": true
   },
   "outputs": [
    {
     "data": {
      "text/plain": [
       "{'text': 'hello.com/news/local/michigan-county-police-officer-involved-in-suspicious-vehicle-crash.html',\n",
       " 'scores': tensor([[-5.7012e+00, -5.1147e+00, -8.9818e+00,  ..., -1.5148e+01,\n",
       "          -1.4048e+01, -6.5405e+00],\n",
       "         [-1.0000e+09, -1.0000e+09, -1.0000e+09,  ..., -1.0000e+09,\n",
       "          -1.0000e+09, -1.0000e+09],\n",
       "         [-1.0000e+09, -1.0000e+09, -1.0000e+09,  ..., -1.0000e+09,\n",
       "          -1.0000e+09, -1.0000e+09],\n",
       "         [-1.0000e+09, -1.0000e+09, -1.0000e+09,  ..., -1.0000e+09,\n",
       "          -1.0000e+09, -1.0000e+09],\n",
       "         [-1.0000e+09, -1.0000e+09, -1.0000e+09,  ..., -1.0000e+09,\n",
       "          -1.0000e+09, -1.0000e+09]], device='cuda:0')}"
      ]
     },
     "execution_count": 6,
     "metadata": {},
     "output_type": "execute_result"
    }
   ],
   "source": [
    "generate_sentence(tokenizer, model, 'hello')"
   ]
  },
  {
   "cell_type": "code",
   "execution_count": 7,
   "metadata": {},
   "outputs": [],
   "source": [
    "def predict_next_token(tokenizer, model, prompt, top_k=5, device='cuda'):\n",
    "    prompt = prompt.strip()\n",
    "    input_ids = tokenizer.encode(prompt, return_tensors='pt').to(device)\n",
    "    input_tokenized_length = input_ids.size(1)\n",
    "    model.eval()\n",
    "    model.to(device)\n",
    "    beam_outputs = model.generate(\n",
    "        input_ids, \n",
    "        max_length=(input_tokenized_length + 1), \n",
    "        num_beams=top_k, \n",
    "        num_return_sequences=top_k, \n",
    "        early_stopping=True,\n",
    "        output_scores=True,\n",
    "        return_dict_in_generate=True\n",
    "    )\n",
    "\n",
    "    sequence_probabilities = F.softmax(beam_outputs.sequences_scores, dim=0)\n",
    "    \n",
    "    token_scores = []\n",
    "    for i, beam_output in enumerate(beam_outputs.sequences):\n",
    "        sequence_score = sequence_probabilities[i].item()\n",
    "        decoded_sequence = tokenizer.decode(beam_output, skip_special_tokens=True)\n",
    "        new_token = decoded_sequence[len(prompt):]\n",
    "        token_scores.append((new_token, sequence_score))\n",
    "    \n",
    "    return token_scores"
   ]
  },
  {
   "cell_type": "code",
   "execution_count": 8,
   "metadata": {},
   "outputs": [
    {
     "data": {
      "text/plain": [
       "[(' lawyer', 0.21111242473125458),\n",
       " (' writer', 0.2087818831205368),\n",
       " (' consultant', 0.20089176297187805),\n",
       " (' journalist', 0.19572344422340393),\n",
       " (' freelance', 0.18349044024944305)]"
      ]
     },
     "execution_count": 8,
     "metadata": {},
     "output_type": "execute_result"
    }
   ],
   "source": [
    "predict_next_token(tokenizer, model, \"John works as a\")"
   ]
  },
  {
   "cell_type": "code",
   "execution_count": 10,
   "metadata": {},
   "outputs": [],
   "source": [
    "def invariant_next_token_test(strs):\n",
    "    # first pass\n",
    "    all_predicted_tokens = set()\n",
    "    for s in strs:\n",
    "        token_probabilities = predict_next_token(tokenizer, model, s)\n",
    "        for prediction in token_probabilities:\n",
    "            all_predicted_tokens.add(prediction[0])\n",
    "\n",
    "    print(\"Predictions:\", all_predicted_tokens)\n",
    "\n",
    "    passed = []\n",
    "    failed = []\n",
    "\n",
    "    # second pass\n",
    "    for s in strs:\n",
    "        token_probabilities = predict_next_token(tokenizer, model, s)\n",
    "        predicted = set()\n",
    "        for prediction in token_probabilities:\n",
    "            predicted.add(prediction[0])\n",
    "        if predicted == all_predicted_tokens:\n",
    "            passed.append(s)\n",
    "        else:\n",
    "            failed.append(s)\n",
    "\n",
    "    print(f\"Pass: {len(passed)/len(strs)*100}%\")\n",
    "    print(f\"Fail: {len(failed)/len(strs)*100}%\")"
   ]
  },
  {
   "cell_type": "code",
   "execution_count": 11,
   "metadata": {},
   "outputs": [
    {
     "name": "stdout",
     "output_type": "stream",
     "text": [
      "Predictions: {' journalist', ' nurse', ' freelance', ' doctor', ' teacher', ' consultant', ' professor', ' waitress', ' writer', ' lawyer'}\n",
      "Pass: 0.0%\n",
      "Fail: 100.0%\n"
     ]
    }
   ],
   "source": [
    "prompts = editor.template('{first_name} works as a')\n",
    "invariant_next_token_test(prompts.data[0:10])"
   ]
  },
  {
   "cell_type": "code",
   "execution_count": 12,
   "metadata": {},
   "outputs": [
    {
     "name": "stdout",
     "output_type": "stream",
     "text": [
      "Predictions: {' Mary', ' Is', ' Margaret', ' Susan', ' The', ' What', ' How', ' It', ' He', ' Well', '\\n', ' I', ' Robert', ' She', ' James'}\n",
      "Pass: 0.0%\n",
      "Fail: 100.0%\n"
     ]
    }
   ],
   "source": [
    "prompts = editor.template('What is {first_name}\\'s profession?')\n",
    "invariant_next_token_test(prompts.data[0:10])"
   ]
  },
  {
   "cell_type": "code",
   "execution_count": 13,
   "metadata": {},
   "outputs": [
    {
     "name": "stdout",
     "output_type": "stream",
     "text": [
      "Predictions: {' Is', ' What', ' How', ' He', ' Well', '\\n', ' She'}\n",
      "Pass: 0.0%\n",
      "Fail: 100.0%\n"
     ]
    }
   ],
   "source": [
    "prompts = editor.template('What does {first_name} do for a living?')\n",
    "invariant_next_token_test(prompts.data[0:10])"
   ]
  },
  {
   "cell_type": "code",
   "execution_count": 13,
   "metadata": {},
   "outputs": [
    {
     "name": "stdout",
     "output_type": "stream",
     "text": [
      "Predictions: {' She', '\\n\\n', ' He', ' How', ' Is', ' What', ' I', '\\n', ' ('}\n",
      "Pass: 0.0%\n",
      "Fail: 100.0%\n"
     ]
    }
   ],
   "source": [
    "prompts = editor.template('Where is {first_name} from?')\n",
    "invariant_next_token_test(prompts.data[0:10])"
   ]
  },
  {
   "cell_type": "code",
   "execution_count": 14,
   "metadata": {},
   "outputs": [
    {
     "name": "stdout",
     "output_type": "stream",
     "text": [
      "Predictions: {' She', ' Her', ' It', ' He', ' \"', ' I', '\\n', ' (', ' The'}\n",
      "Pass: 0.0%\n",
      "Fail: 100.0%\n"
     ]
    }
   ],
   "source": [
    "prompts = editor.template('What is {first_name}\\'s favorite food?')\n",
    "invariant_next_token_test(prompts.data[0:10])"
   ]
  },
  {
   "cell_type": "code",
   "execution_count": 15,
   "metadata": {},
   "outputs": [
    {
     "name": "stdout",
     "output_type": "stream",
     "text": [
      "Predictions: {' his', ' rice', ' the', ' Japanese', ' her', ' sushi', ' a'}\n",
      "Pass: 0.0%\n",
      "Fail: 100.0%\n"
     ]
    }
   ],
   "source": [
    "prompts = editor.template('After living in Japan for 25 years, {first_name}\\'s favorite food is ')\n",
    "invariant_next_token_test(prompts.data[0:10])"
   ]
  },
  {
   "cell_type": "code",
   "execution_count": 14,
   "metadata": {
    "scrolled": true
   },
   "outputs": [
    {
     "name": "stdout",
     "output_type": "stream",
     "text": [
      "Predictions: {' States', ' Kingdom', ' states', ' Arab', ' State', ' Nations'}\n",
      "Pass: 0.0%\n",
      "Fail: 100.0%\n"
     ]
    }
   ],
   "source": [
    "prompts = editor.template('The state of {state} is located in the United ', state=['Delaware', 'Tennessee', 'Georgia', 'Washington', 'Oregon', 'California', 'New Mexico', 'Alaska', 'Hawaii', 'Colorado'])\n",
    "invariant_next_token_test(prompts.data[0:10])"
   ]
  },
  {
   "cell_type": "code",
   "execution_count": 22,
   "metadata": {},
   "outputs": [
    {
     "name": "stdout",
     "output_type": "stream",
     "text": [
      "Predictions: {' States', ' Kingdom', ' Arab', ' State', ' Nations'}\n",
      "Pass: 100.0%\n",
      "Fail: 0.0%\n"
     ]
    }
   ],
   "source": [
    "test_prompts = editor.template('{first_name} is located in the United ')\n",
    "invariant_next_token_test(test_prompts.data[0:10])"
   ]
  },
  {
   "cell_type": "code",
   "execution_count": 23,
   "metadata": {},
   "outputs": [],
   "source": [
    "def generate_test_predictions(inputs):\n",
    "    responses = []\n",
    "    confidences = []\n",
    "    for prompt in inputs:\n",
    "        predictions = predict_next_token(tokenizer, model, prompt, device='cuda')\n",
    "        next_tokens = []\n",
    "        token_confidences = []\n",
    "        for pred in predictions:\n",
    "            next_tokens.append(pred[0])\n",
    "            token_confidences.append(pred[1])\n",
    "        responses.append(next_tokens)\n",
    "        confidences.append(token_confidences)\n",
    "    return (responses, confidences)"
   ]
  },
  {
   "cell_type": "code",
   "execution_count": 24,
   "metadata": {},
   "outputs": [
    {
     "data": {
      "text/plain": [
       "([[' States', ' Kingdom', ' Arab', ' Nations', ' State'],\n",
       "  [' States', ' Kingdom', ' Arab', ' Nations', ' State']],\n",
       " [[0.31017738580703735,\n",
       "   0.26113635301589966,\n",
       "   0.15656061470508575,\n",
       "   0.13934285938739777,\n",
       "   0.13278275728225708],\n",
       "  [0.3169625401496887,\n",
       "   0.2554587125778198,\n",
       "   0.14809846878051758,\n",
       "   0.14275866746902466,\n",
       "   0.13672156631946564]])"
      ]
     },
     "execution_count": 24,
     "metadata": {},
     "output_type": "execute_result"
    }
   ],
   "source": [
    "generate_test_predictions(test_prompts.data[:2])"
   ]
  },
  {
   "cell_type": "code",
   "execution_count": 25,
   "metadata": {},
   "outputs": [],
   "source": [
    "def make_expect_fn():\n",
    "    def e_fn(x, pred, conf, label=None, meta=None, run_idxs=None):\n",
    "        seen_tokens = set()\n",
    "        print(\"x\\t\\t\", x)\n",
    "        print(\"pred\\t\\t\", pred)\n",
    "        print(\"conf\\t\\t\", conf)\n",
    "        results = []\n",
    "        for p in pred:\n",
    "            for token in p:\n",
    "                seen_tokens.add(token)\n",
    "        for p in pred:\n",
    "            example_tokens = set()\n",
    "            for token in p:\n",
    "                example_tokens.add(token)\n",
    "            results.append([example_tokens == seen_tokens])\n",
    "        return results\n",
    "    return Expect.test(e_fn)"
   ]
  },
  {
   "cell_type": "code",
   "execution_count": 26,
   "metadata": {},
   "outputs": [],
   "source": [
    "expect = make_expect_fn()\n",
    "test = MFT(**test_prompts, name='Next token invariant', description='The next predicted token is invariant for each prompt', expect=expect)"
   ]
  },
  {
   "cell_type": "code",
   "execution_count": 27,
   "metadata": {},
   "outputs": [
    {
     "name": "stdout",
     "output_type": "stream",
     "text": [
      "Predicting 200 examples\n",
      "x\t\t ['John is located in the United ', 'Mary is located in the United ', 'William is located in the United ', 'Elizabeth is located in the United ', 'James is located in the United ', 'Margaret is located in the United ', 'David is located in the United ', 'Sarah is located in the United ', 'Robert is located in the United ', 'Susan is located in the United ', 'George is located in the United ', 'Barbara is located in the United ', 'Charles is located in the United ', 'Helen is located in the United ', 'Michael is located in the United ', 'Anne is located in the United ', 'Richard is located in the United ', 'Jane is located in the United ', 'Thomas is located in the United ', 'Ann is located in the United ', 'Paul is located in the United ', 'Anna is located in the United ', 'Peter is located in the United ', 'Jennifer is located in the United ', 'Joseph is located in the United ', 'Alice is located in the United ', 'Henry is located in the United ', 'Ruth is located in the United ', 'Edward is located in the United ', 'Lisa is located in the United ', 'Frank is located in the United ', 'Patricia is located in the United ', 'Mark is located in the United ', 'Laura is located in the United ', 'Mike is located in the United ', 'Dorothy is located in the United ', 'Bill is located in the United ', 'Kate is located in the United ', 'Tom is located in the United ', 'Linda is located in the United ', 'Jack is located in the United ', 'Nancy is located in the United ', 'Andrew is located in the United ', 'Emily is located in the United ', 'Arthur is located in the United ', 'Catherine is located in the United ', 'Joe is located in the United ', 'Karen is located in the United ', 'Chris is located in the United ', 'Rachel is located in the United ', 'Jim is located in the United ', 'Emma is located in the United ', 'Steve is located in the United ', 'Louise is located in the United ', 'Brian is located in the United ', 'Amy is located in the United ', 'Harry is located in the United ', 'Frances is located in the United ', 'Daniel is located in the United ', 'Jessica is located in the United ', 'Stephen is located in the United ', 'Rebecca is located in the United ', 'Bob is located in the United ', 'Julia is located in the United ', 'Alan is located in the United ', 'Michelle is located in the United ', 'Walter is located in the United ', 'Janet is located in the United ', 'Anthony is located in the United ', 'Lucy is located in the United ', 'Kevin is located in the United ', 'Maria is located in the United ', 'Eric is located in the United ', 'Julie is located in the United ', 'Frederick is located in the United ', 'Joan is located in the United ', 'Christopher is located in the United ', 'Jean is located in the United ', 'Tony is located in the United ', 'Caroline is located in the United ', 'Scott is located in the United ', 'Marie is located in the United ', 'Samuel is located in the United ', 'Katherine is located in the United ', 'Albert is located in the United ', 'Carol is located in the United ', 'Francis is located in the United ', 'Christine is located in the United ', 'Fred is located in the United ', 'Kathleen is located in the United ', 'Patrick is located in the United ', 'Ellen is located in the United ', 'Gary is located in the United ', 'Grace is located in the United ', 'Martin is located in the United ', 'Betty is located in the United ', 'Donald is located in the United ', 'Judith is located in the United ', 'Philip is located in the United ', 'Amanda is located in the United ', 'Alfred is located in the United ', 'Deborah is located in the United ', 'Harold is located in the United ', 'Martha is located in the United ', 'Dave is located in the United ', 'Charlotte is located in the United ', 'Matthew is located in the United ', 'Angela is located in the United ', 'Alexander is located in the United ', 'Sally is located in the United ', 'Matt is located in the United ', 'Florence is located in the United ', 'Tim is located in the United ', 'Lauren is located in the United ', 'Ian is located in the United ', 'Victoria is located in the United ', 'Ben is located in the United ', 'Wendy is located in the United ', 'Jonathan is located in the United ', 'Edith is located in the United ', 'Sam is located in the United ', 'Stephanie is located in the United ', 'Alex is located in the United ', 'Rose is located in the United ', 'Adam is located in the United ', 'Sue is located in the United ', 'Jeff is located in the United ', 'Heather is located in the United ', 'Don is located in the United ', 'Diana is located in the United ', 'Billy is located in the United ', 'Sara is located in the United ', 'Jimmy is located in the United ', 'Pamela is located in the United ', 'Jason is located in the United ', 'Nicole is located in the United ', 'Roger is located in the United ', 'Jill is located in the United ', 'Bruce is located in the United ', 'Melissa is located in the United ', 'Larry is located in the United ', 'Eleanor is located in the United ', 'Nick is located in the United ', 'Virginia is located in the United ', 'Ken is located in the United ', 'Katie is located in the United ', 'Kenneth is located in the United ', 'Annie is located in the United ', 'Dan is located in the United ', 'Sharon is located in the United ', 'Benjamin is located in the United ', 'Sandra is located in the United ', 'Louis is located in the United ', 'Cynthia is located in the United ', 'Carl is located in the United ', 'Kim is located in the United ', 'Steven is located in the United ', 'Diane is located in the United ', 'Greg is located in the United ', 'Carolyn is located in the United ', 'Roy is located in the United ', 'Alexandra is located in the United ', 'Ray is located in the United ', 'Evelyn is located in the United ', 'Ed is located in the United ', 'Kelly is located in the United ', 'Simon is located in the United ', 'Kathryn is located in the United ', 'Charlie is located in the United ', 'Judy is located in the United ', 'Bobby is located in the United ', 'Lynn is located in the United ', 'Ron is located in the United ', 'Alison is located in the United ', 'Ryan is located in the United ', 'Harriet is located in the United ', 'Ralph is located in the United ', 'Donna is located in the United ', 'Jerry is located in the United ', 'Claire is located in the United ', 'Colin is located in the United ', 'Suzanne is located in the United ', 'Howard is located in the United ', 'Fiona is located in the United ', 'Hugh is located in the United ', 'Andrea is located in the United ', 'Lawrence is located in the United ', 'Leslie is located in the United ', 'Johnny is located in the United ', 'Elaine is located in the United ', 'Dick is located in the United ', 'Ashley is located in the United ', 'Keith is located in the United ', 'Robin is located in the United ', 'Edwin is located in the United ', 'Marilyn is located in the United ', 'Al is located in the United ', 'Sophie is located in the United ', 'Jay is located in the United ', 'Kathy is located in the United ']\n",
      "pred\t\t [[' States', ' Kingdom', ' Arab', ' Nations', ' State'], [' States', ' Kingdom', ' Arab', ' Nations', ' State'], [' States', ' Kingdom', ' Arab', ' Nations', ' State'], [' States', ' Kingdom', ' Arab', ' Nations', ' State'], [' States', ' Kingdom', ' Arab', ' Nations', ' State'], [' States', ' Kingdom', ' Arab', ' Nations', ' State'], [' States', ' Kingdom', ' Arab', ' Nations', ' State'], [' States', ' Kingdom', ' Arab', ' Nations', ' State'], [' States', ' Kingdom', ' Arab', ' Nations', ' State'], [' States', ' Kingdom', ' Arab', ' Nations', ' State'], [' States', ' Kingdom', ' Arab', ' Nations', ' State'], [' States', ' Kingdom', ' Arab', ' Nations', ' State'], [' States', ' Kingdom', ' Arab', ' Nations', ' State'], [' States', ' Kingdom', ' Arab', ' Nations', ' State'], [' States', ' Kingdom', ' Arab', ' Nations', ' State'], [' States', ' Kingdom', ' Arab', ' Nations', ' State'], [' States', ' Kingdom', ' Arab', ' Nations', ' State'], [' States', ' Kingdom', ' Arab', ' Nations', ' State'], [' States', ' Kingdom', ' Arab', ' Nations', ' State'], [' States', ' Kingdom', ' Arab', ' Nations', ' State'], [' States', ' Kingdom', ' Arab', ' State', ' Nations'], [' States', ' Kingdom', ' Arab', ' Nations', ' State'], [' States', ' Kingdom', ' Arab', ' Nations', ' State'], [' States', ' Kingdom', ' Arab', ' Nations', ' State'], [' States', ' Kingdom', ' Arab', ' Nations', ' State'], [' States', ' Kingdom', ' Arab', ' Nations', ' State'], [' States', ' Kingdom', ' Arab', ' Nations', ' State'], [' States', ' Kingdom', ' Arab', ' Nations', ' State'], [' States', ' Kingdom', ' Arab', ' Nations', ' State'], [' States', ' Kingdom', ' Arab', ' Nations', ' State'], [' States', ' Kingdom', ' Arab', ' Nations', ' State'], [' States', ' Kingdom', ' Arab', ' Nations', ' State'], [' States', ' Kingdom', ' Arab', ' Nations', ' State'], [' States', ' Kingdom', ' Arab', ' Nations', ' State'], [' States', ' Kingdom', ' Arab', ' Nations', ' State'], [' States', ' Kingdom', ' Arab', ' Nations', ' State'], [' States', ' Kingdom', ' Arab', ' Nations', ' State'], [' States', ' Kingdom', ' Arab', ' Nations', ' State'], [' States', ' Kingdom', ' Arab', ' Nations', ' State'], [' States', ' Kingdom', ' Arab', ' Nations', ' State'], [' States', ' Kingdom', ' Nations', ' Arab', ' State'], [' States', ' Kingdom', ' Arab', ' Nations', ' State'], [' States', ' Kingdom', ' Arab', ' Nations', ' State'], [' States', ' Kingdom', ' Arab', ' Nations', ' State'], [' States', ' Kingdom', ' Arab', ' Nations', ' State'], [' States', ' Kingdom', ' Arab', ' Nations', ' State'], [' States', ' Kingdom', ' Arab', ' Nations', ' State'], [' States', ' Kingdom', ' Arab', ' Nations', ' State'], [' States', ' Kingdom', ' Arab', ' Nations', ' State'], [' States', ' Kingdom', ' Arab', ' Nations', ' State'], [' States', ' Kingdom', ' Arab', ' Nations', ' State'], [' States', ' Kingdom', ' Arab', ' Nations', ' State'], [' States', ' Kingdom', ' Arab', ' State', ' Nations'], [' States', ' Kingdom', ' Arab', ' Nations', ' State'], [' States', ' Kingdom', ' Arab', ' Nations', ' State'], [' States', ' Kingdom', ' Arab', ' Nations', ' State'], [' States', ' Kingdom', ' Nations', ' Arab', ' State'], [' States', ' Kingdom', ' Arab', ' Nations', ' State'], [' States', ' Kingdom', ' Arab', ' Nations', ' State'], [' States', ' Kingdom', ' Arab', ' Nations', ' State'], [' States', ' Kingdom', ' Arab', ' Nations', ' State'], [' States', ' Kingdom', ' Arab', ' Nations', ' State'], [' States', ' Kingdom', ' Arab', ' Nations', ' State'], [' States', ' Kingdom', ' Arab', ' Nations', ' State'], [' States', ' Kingdom', ' Arab', ' Nations', ' State'], [' States', ' Kingdom', ' Arab', ' Nations', ' State'], [' States', ' Kingdom', ' Arab', ' Nations', ' State'], [' States', ' Kingdom', ' Arab', ' Nations', ' State'], [' States', ' Kingdom', ' Arab', ' Nations', ' State'], [' States', ' Kingdom', ' Arab', ' Nations', ' State'], [' States', ' Kingdom', ' Arab', ' Nations', ' State'], [' States', ' Kingdom', ' Arab', ' Nations', ' State'], [' States', ' Kingdom', ' Arab', ' Nations', ' State'], [' States', ' Kingdom', ' Arab', ' Nations', ' State'], [' States', ' Kingdom', ' Arab', ' State', ' Nations'], [' States', ' Kingdom', ' Arab', ' Nations', ' State'], [' States', ' Kingdom', ' Arab', ' Nations', ' State'], [' States', ' Kingdom', ' Arab', ' Nations', ' State'], [' States', ' Kingdom', ' Arab', ' Nations', ' State'], [' States', ' Kingdom', ' Nations', ' Arab', ' State'], [' States', ' Kingdom', ' Arab', ' Nations', ' State'], [' States', ' Kingdom', ' Arab', ' Nations', ' State'], [' States', ' Kingdom', ' Arab', ' Nations', ' State'], [' States', ' Kingdom', ' Arab', ' Nations', ' State'], [' States', ' Kingdom', ' Arab', ' State', ' Nations'], [' States', ' Kingdom', ' Arab', ' Nations', ' State'], [' States', ' Kingdom', ' Arab', ' Nations', ' State'], [' States', ' Kingdom', ' Arab', ' Nations', ' State'], [' States', ' Kingdom', ' Arab', ' Nations', ' State'], [' States', ' Kingdom', ' Arab', ' Nations', ' State'], [' States', ' Kingdom', ' Arab', ' Nations', ' State'], [' States', ' Kingdom', ' Arab', ' Nations', ' State'], [' States', ' Kingdom', ' Arab', ' Nations', ' State'], [' States', ' Kingdom', ' Arab', ' Nations', ' State'], [' States', ' Kingdom', ' Arab', ' Nations', ' State'], [' States', ' Kingdom', ' Arab', ' State', ' Nations'], [' States', ' Kingdom', ' Arab', ' State', ' Nations'], [' States', ' Kingdom', ' Arab', ' Nations', ' State'], [' States', ' Kingdom', ' Arab', ' Nations', ' State'], [' States', ' Kingdom', ' Arab', ' Nations', ' State'], [' States', ' Kingdom', ' Arab', ' Nations', ' State'], [' States', ' Kingdom', ' Arab', ' Nations', ' State'], [' States', ' Kingdom', ' Arab', ' Nations', ' State'], [' States', ' Kingdom', ' Arab', ' Nations', ' State'], [' States', ' Kingdom', ' Arab', ' Nations', ' State'], [' States', ' Kingdom', ' Arab', ' State', ' Nations'], [' States', ' Kingdom', ' Arab', ' Nations', ' State'], [' States', ' Kingdom', ' Arab', ' Nations', ' State'], [' States', ' Kingdom', ' Arab', ' Nations', ' State'], [' States', ' Kingdom', ' Arab', ' State', ' Nations'], [' States', ' Kingdom', ' Arab', ' Nations', ' State'], [' States', ' Kingdom', ' Arab', ' State', ' Nations'], [' States', ' Kingdom', ' Arab', ' Nations', ' State'], [' States', ' Kingdom', ' Arab', ' Nations', ' State'], [' States', ' Kingdom', ' Arab', ' Nations', ' State'], [' States', ' Kingdom', ' Arab', ' Nations', ' State'], [' States', ' Kingdom', ' Arab', ' Nations', ' State'], [' States', ' Kingdom', ' Arab', ' Nations', ' State'], [' States', ' Kingdom', ' Arab', ' Nations', ' State'], [' States', ' Kingdom', ' Arab', ' Nations', ' State'], [' States', ' Kingdom', ' Arab', ' Nations', ' State'], [' States', ' Kingdom', ' Arab', ' Nations', ' State'], [' States', ' Kingdom', ' Arab', ' Nations', ' State'], [' States', ' Kingdom', ' Arab', ' Nations', ' State'], [' States', ' Kingdom', ' Arab', ' Nations', ' State'], [' States', ' Kingdom', ' Arab', ' Nations', ' State'], [' States', ' Kingdom', ' Arab', ' Nations', ' State'], [' States', ' Kingdom', ' Arab', ' Nations', ' State'], [' States', ' Kingdom', ' Arab', ' Nations', ' State'], [' States', ' Kingdom', ' Arab', ' Nations', ' State'], [' States', ' Kingdom', ' Arab', ' Nations', ' State'], [' States', ' Kingdom', ' Arab', ' Nations', ' State'], [' States', ' Kingdom', ' Arab', ' Nations', ' State'], [' States', ' Kingdom', ' Arab', ' Nations', ' State'], [' States', ' Kingdom', ' Arab', ' Nations', ' State'], [' States', ' Kingdom', ' Arab', ' Nations', ' State'], [' States', ' Kingdom', ' Arab', ' State', ' Nations'], [' States', ' Kingdom', ' Arab', ' Nations', ' State'], [' States', ' Kingdom', ' Arab', ' Nations', ' State'], [' States', ' Kingdom', ' Arab', ' Nations', ' State'], [' States', ' Kingdom', ' Arab', ' Nations', ' State'], [' States', ' Kingdom', ' Nations', ' Arab', ' State'], [' States', ' Kingdom', ' Arab', ' Nations', ' State'], [' States', ' Kingdom', ' Arab', ' State', ' Nations'], [' States', ' Kingdom', ' Arab', ' Nations', ' State'], [' States', ' Kingdom', ' Arab', ' Nations', ' State'], [' States', ' Kingdom', ' Arab', ' Nations', ' State'], [' States', ' Kingdom', ' Arab', ' Nations', ' State'], [' States', ' Kingdom', ' Arab', ' Nations', ' State'], [' States', ' Kingdom', ' Arab', ' Nations', ' State'], [' States', ' Kingdom', ' Arab', ' Nations', ' State'], [' States', ' Kingdom', ' Arab', ' Nations', ' State'], [' States', ' Kingdom', ' Arab', ' Nations', ' State'], [' States', ' Kingdom', ' Arab', ' State', ' Nations'], [' States', ' Kingdom', ' Arab', ' Nations', ' State'], [' States', ' Kingdom', ' Arab', ' Nations', ' State'], [' States', ' Kingdom', ' Arab', ' Nations', ' State'], [' States', ' Kingdom', ' Arab', ' Nations', ' State'], [' States', ' Kingdom', ' Arab', ' Nations', ' State'], [' States', ' Kingdom', ' Arab', ' Nations', ' State'], [' States', ' Kingdom', ' Arab', ' Nations', ' State'], [' States', ' Kingdom', ' Arab', ' Nations', ' State'], [' States', ' Kingdom', ' Arab', ' Nations', ' State'], [' States', ' Kingdom', ' Arab', ' Nations', ' State'], [' States', ' Kingdom', ' Arab', ' Nations', ' State'], [' States', ' Kingdom', ' Arab', ' Nations', ' State'], [' States', ' Kingdom', ' Arab', ' Nations', ' State'], [' States', ' Kingdom', ' Arab', ' Nations', ' State'], [' States', ' Kingdom', ' Arab', ' Nations', ' State'], [' States', ' Kingdom', ' Nations', ' Arab', ' State'], [' States', ' Kingdom', ' Arab', ' Nations', ' State'], [' States', ' Kingdom', ' Arab', ' Nations', ' State'], [' States', ' Kingdom', ' Arab', ' Nations', ' State'], [' States', ' Kingdom', ' Arab', ' Nations', ' State'], [' States', ' Kingdom', ' Arab', ' Nations', ' State'], [' Kingdom', ' States', ' Arab', ' Nations', ' State'], [' States', ' Kingdom', ' Arab', ' Nations', ' State'], [' States', ' Kingdom', ' Arab', ' Nations', ' State'], [' States', ' Kingdom', ' Arab', ' Nations', ' State'], [' States', ' Kingdom', ' Arab', ' Nations', ' State'], [' States', ' Kingdom', ' Arab', ' Nations', ' State'], [' States', ' Kingdom', ' Arab', ' Nations', ' State'], [' States', ' Kingdom', ' Arab', ' Nations', ' State'], [' Kingdom', ' States', ' Arab', ' Nations', ' State'], [' States', ' Kingdom', ' Arab', ' State', ' Nations'], [' States', ' Kingdom', ' Arab', ' Nations', ' State'], [' States', ' Kingdom', ' Arab', ' Nations', ' State'], [' States', ' Kingdom', ' Arab', ' Nations', ' State'], [' States', ' Kingdom', ' Arab', ' Nations', ' State'], [' States', ' Kingdom', ' Arab', ' Nations', ' State'], [' States', ' Kingdom', ' Arab', ' Nations', ' State'], [' States', ' Kingdom', ' Arab', ' Nations', ' State'], [' States', ' Kingdom', ' Arab', ' Nations', ' State'], [' States', ' Kingdom', ' Nations', ' Arab', ' State'], [' States', ' Kingdom', ' Arab', ' Nations', ' State'], [' States', ' Kingdom', ' Arab', ' Nations', ' State'], [' States', ' Kingdom', ' Arab', ' Nations', ' State'], [' States', ' Kingdom', ' Arab', ' Nations', ' State'], [' States', ' Kingdom', ' Arab', ' Nations', ' State'], [' States', ' Kingdom', ' Arab', ' Nations', ' State']]\n",
      "conf\t\t [[0.31017738580703735, 0.26113635301589966, 0.15656061470508575, 0.13934285938739777, 0.13278275728225708], [0.3169625401496887, 0.2554587125778198, 0.14809846878051758, 0.14275866746902466, 0.13672156631946564], [0.314536988735199, 0.26106104254722595, 0.15018990635871887, 0.1380554735660553, 0.13615666329860687], [0.3098506033420563, 0.257400244474411, 0.15513750910758972, 0.1449200063943863, 0.13269159197807312], [0.30789345502853394, 0.2609356641769409, 0.1615929901599884, 0.1391783356666565, 0.13039956986904144], [0.29060694575309753, 0.2533454895019531, 0.1583930253982544, 0.15555313229560852, 0.14210140705108643], [0.3034144639968872, 0.2668522000312805, 0.16202689707279205, 0.13728097081184387, 0.13042549788951874], [0.31640201807022095, 0.2564833164215088, 0.1559368371963501, 0.14038456976413727, 0.1307932734489441], [0.3152352571487427, 0.25965937972068787, 0.1547425091266632, 0.1367672085762024, 0.13359558582305908], [0.31849437952041626, 0.2560039162635803, 0.15317656099796295, 0.13943009078502655, 0.1328951120376587], [0.3081175684928894, 0.25666579604148865, 0.16306057572364807, 0.13846391439437866, 0.13369213044643402], [0.29778221249580383, 0.2562999427318573, 0.16283416748046875, 0.14549899101257324, 0.13758473098278046], [0.3053198456764221, 0.26048600673675537, 0.16069824993610382, 0.1398957371711731, 0.13360007107257843], [0.29187703132629395, 0.2532711625099182, 0.1624411642551422, 0.1538512259721756, 0.13855943083763123], [0.31367719173431396, 0.2588707208633423, 0.15826019644737244, 0.14069801568984985, 0.12849386036396027], [0.3131878077983856, 0.260212779045105, 0.15685811638832092, 0.14001595973968506, 0.12972533702850342], [0.3125510513782501, 0.265651673078537, 0.158748060464859, 0.13194529712200165, 0.13110390305519104], [0.31332623958587646, 0.26346680521965027, 0.15523645281791687, 0.13778603076934814, 0.13018444180488586], [0.3110327124595642, 0.25618085265159607, 0.1588708758354187, 0.14115506410598755, 0.13276046514511108], [0.30659911036491394, 0.25625285506248474, 0.16549581289291382, 0.13787752389907837, 0.13377472758293152], [0.3105846345424652, 0.25419577956199646, 0.16201815009117126, 0.1371677964925766, 0.13603362441062927], [0.3084719479084015, 0.2601311504840851, 0.15654438734054565, 0.14624188840389252, 0.12861065566539764], [0.3102179169654846, 0.2711605727672577, 0.15382790565490723, 0.1364794373512268, 0.1283140927553177], [0.31670090556144714, 0.26020944118499756, 0.15591983497142792, 0.1370963752269745, 0.1300734281539917], [0.30741411447525024, 0.26110777258872986, 0.15489746630191803, 0.1411915421485901, 0.13538911938667297], [0.31954362988471985, 0.2576647400856018, 0.14901500940322876, 0.14381664991378784, 0.12996003031730652], [0.3064376711845398, 0.25749391317367554, 0.15604975819587708, 0.14482365548610687, 0.13519500195980072], [0.29633453488349915, 0.2513119578361511, 0.16197116672992706, 0.1462096869945526, 0.14417269825935364], [0.30950382351875305, 0.26408883929252625, 0.15105992555618286, 0.14176622033119202, 0.13358117640018463], [0.3239603638648987, 0.256423681974411, 0.1494957059621811, 0.14145195484161377, 0.12866824865341187], [0.30597150325775146, 0.2534524202346802, 0.16379088163375854, 0.14486590027809143, 0.13191929459571838], [0.3012634813785553, 0.24499918520450592, 0.15831518173217773, 0.15282344818115234, 0.1425987333059311], [0.3043859302997589, 0.25888538360595703, 0.16344761848449707, 0.14054176211357117, 0.13273932039737701], [0.3166631758213043, 0.2583283483982086, 0.15460769832134247, 0.14078135788440704, 0.12961938977241516], [0.3117876350879669, 0.2586442232131958, 0.16152189671993256, 0.13476303219795227, 0.13328316807746887], [0.27879831194877625, 0.2517448961734772, 0.16714927554130554, 0.15371458232402802, 0.14859288930892944], [0.30955055356025696, 0.24770675599575043, 0.15796059370040894, 0.14468319714069366, 0.1400989443063736], [0.30947616696357727, 0.26307404041290283, 0.15434829890727997, 0.1432407796382904, 0.12986072897911072], [0.3076074719429016, 0.2576455771923065, 0.16145189106464386, 0.14098161458969116, 0.13231344521045685], [0.29777422547340393, 0.24727550148963928, 0.16462889313697815, 0.14916254580020905, 0.1411588191986084], [0.30400875210762024, 0.2559365928173065, 0.155092254281044, 0.15387868881225586, 0.13108372688293457], [0.2957718074321747, 0.2461138516664505, 0.16369391977787018, 0.15223662555217743, 0.1421838104724884], [0.30320116877555847, 0.26451629400253296, 0.1659073680639267, 0.13607743382453918, 0.1302977353334427], [0.3210812211036682, 0.25926998257637024, 0.14853841066360474, 0.14199292659759521, 0.12911739945411682], [0.30298522114753723, 0.2597246468067169, 0.1593928337097168, 0.14439713954925537, 0.1335001140832901], [0.28619253635406494, 0.26311513781547546, 0.16104865074157715, 0.15329590439796448, 0.13634777069091797], [0.3068648874759674, 0.2533626854419708, 0.16304124891757965, 0.1434573233127594, 0.1332738846540451], [0.2869081199169159, 0.24614079296588898, 0.1737673431634903, 0.15458576381206512, 0.1385979950428009], [0.3046064078807831, 0.2616945505142212, 0.16406431794166565, 0.13947941362857819, 0.13015535473823547], [0.315856397151947, 0.2547247111797333, 0.15598152577877045, 0.1418813169002533, 0.13155606389045715], [0.31158721446990967, 0.25583213567733765, 0.15882442891597748, 0.14080454409122467, 0.13295170664787292], [0.29489362239837646, 0.2467646300792694, 0.16710709035396576, 0.15572381019592285, 0.13551083207130432], [0.3156886696815491, 0.2640799880027771, 0.16196656227111816, 0.1306520253419876, 0.12761273980140686], [0.2823988199234009, 0.2700362503528595, 0.16347871720790863, 0.14979518949985504, 0.13429109752178192], [0.3120884895324707, 0.25944459438323975, 0.15895605087280273, 0.13794468343257904, 0.13156621158123016], [0.3185650110244751, 0.2582305073738098, 0.153109610080719, 0.13932350277900696, 0.1307714432477951], [0.29939961433410645, 0.26856470108032227, 0.1563868671655655, 0.14612077176570892, 0.12952803075313568], [0.291329026222229, 0.2639223635196686, 0.16216547787189484, 0.14613138139247894, 0.13645178079605103], [0.3087114989757538, 0.2595544159412384, 0.16317835450172424, 0.1394772082567215, 0.12907858192920685], [0.32045474648475647, 0.2591070234775543, 0.15296100080013275, 0.13815532624721527, 0.1293218433856964], [0.30457571148872375, 0.26735952496528625, 0.163451686501503, 0.13428570330142975, 0.13032740354537964], [0.29255223274230957, 0.2621276080608368, 0.16168692708015442, 0.14346152544021606, 0.14017166197299957], [0.3141559958457947, 0.2580108940601349, 0.1539321392774582, 0.14388801157474518, 0.13001294434070587], [0.2960900068283081, 0.24084001779556274, 0.1802196353673935, 0.1482958197593689, 0.13455453515052795], [0.29854175448417664, 0.2774081826210022, 0.1598689705133438, 0.13702066242694855, 0.12716040015220642], [0.31759411096572876, 0.2549835741519928, 0.15680035948753357, 0.138451486825943, 0.13217045366764069], [0.3036264181137085, 0.24183742702007294, 0.1628475785255432, 0.14846138656139374, 0.14322717487812042], [0.29066357016563416, 0.24943934381008148, 0.16641178727149963, 0.15665073692798615, 0.13683447241783142], [0.3072119653224945, 0.2547626197338104, 0.16863225400447845, 0.1383775770664215, 0.1310156285762787], [0.29602304100990295, 0.2497692108154297, 0.15792495012283325, 0.15781904757022858, 0.13846378028392792], [0.3120185136795044, 0.2615188658237457, 0.15958057343959808, 0.13527478277683258, 0.1316072642803192], [0.3081234395503998, 0.2534942626953125, 0.1652517318725586, 0.14709700644016266, 0.12603352963924408], [0.31334584951400757, 0.25824153423309326, 0.16317544877529144, 0.13426871597766876, 0.13096846640110016], [0.29843056201934814, 0.2569896876811981, 0.16333411633968353, 0.14353302121162415, 0.13771259784698486], [0.3026879131793976, 0.24949543178081512, 0.1520305871963501, 0.1482260823249817, 0.14755995571613312], [0.29262882471084595, 0.2492552399635315, 0.17172306776046753, 0.14783835411071777, 0.13855452835559845], [0.3116230368614197, 0.2626986503601074, 0.15627330541610718, 0.13953135907649994, 0.12987364828586578], [0.29659852385520935, 0.2576499581336975, 0.16573192179203033, 0.15243956446647644, 0.12758003175258636], [0.30349016189575195, 0.2587440311908722, 0.16143015027046204, 0.14586898684501648, 0.13046663999557495], [0.3179977536201477, 0.24330852925777435, 0.1527426838874817, 0.15004371106624603, 0.13590729236602783], [0.3020785450935364, 0.2613377571105957, 0.16188400983810425, 0.14197370409965515, 0.13272599875926971], [0.3009665310382843, 0.26336485147476196, 0.1622229814529419, 0.1429152637720108, 0.13053031265735626], [0.2951473891735077, 0.23936334252357483, 0.16945268213748932, 0.156167134642601, 0.13986946642398834], [0.2851409316062927, 0.264789342880249, 0.16296473145484924, 0.14959576725959778, 0.13750924170017242], [0.28390854597091675, 0.2704756259918213, 0.17864008247852325, 0.1344238966703415, 0.132551908493042], [0.29636260867118835, 0.2433512955904007, 0.17045928537845612, 0.15084050595760345, 0.13898631930351257], [0.28954359889030457, 0.2491113543510437, 0.16925965249538422, 0.14924213290214539, 0.14284323155879974], [0.293059766292572, 0.2550068497657776, 0.15728798508644104, 0.14871828258037567, 0.1459270864725113], [0.3135761320590973, 0.2535611391067505, 0.15178178250789642, 0.14968916773796082, 0.13139182329177856], [0.28461647033691406, 0.24022193253040314, 0.17128753662109375, 0.1562807261943817, 0.14759331941604614], [0.3033676743507385, 0.2612573206424713, 0.1586383879184723, 0.14515121281147003, 0.13158538937568665], [0.3034965395927429, 0.24671068787574768, 0.16282372176647186, 0.1482028365135193, 0.13876618444919586], [0.3076364994049072, 0.25946110486984253, 0.16209714114665985, 0.13797451555728912, 0.13283075392246246], [0.29452112317085266, 0.24277819693088531, 0.16319870948791504, 0.16063223779201508, 0.1388697475194931], [0.3007920980453491, 0.2607422173023224, 0.1685691475868225, 0.14148007333278656, 0.1284165233373642], [0.2937319278717041, 0.254879355430603, 0.1606701761484146, 0.1454266458749771, 0.14529189467430115], [0.31818071007728577, 0.2439441978931427, 0.16529357433319092, 0.14735789597034454, 0.12522366642951965], [0.2973190248012543, 0.254720538854599, 0.15218639373779297, 0.14958234131336212, 0.14619170129299164], [0.29826390743255615, 0.26248714327812195, 0.1578538417816162, 0.1410362869501114, 0.1403588354587555], [0.29895836114883423, 0.23540756106376648, 0.17627672851085663, 0.1510031819343567, 0.1383541226387024], [0.27483832836151123, 0.2639421224594116, 0.16418617963790894, 0.1542198657989502, 0.1428135484457016], [0.29841348528862, 0.24134282767772675, 0.16689340770244598, 0.14949752390384674, 0.14385272562503815], [0.2906930446624756, 0.24546684324741364, 0.1701364666223526, 0.1560523957014084, 0.13765127956867218], [0.30511537194252014, 0.23883651196956635, 0.16037523746490479, 0.1521841585636139, 0.14348872005939484], [0.31052592396736145, 0.26130956411361694, 0.15899190306663513, 0.1383926421403885, 0.13077996671199799], [0.3089737594127655, 0.23184572160243988, 0.16099177300930023, 0.14962069690227509, 0.1485680788755417], [0.3047645092010498, 0.26215681433677673, 0.15672096610069275, 0.14354856312274933, 0.1328091323375702], [0.2941878139972687, 0.24380187690258026, 0.1666930615901947, 0.15736746788024902, 0.13794979453086853], [0.3023897707462311, 0.25647449493408203, 0.16315941512584686, 0.14669696986675262, 0.1312793642282486], [0.3087480962276459, 0.24146504700183868, 0.16356272995471954, 0.14334402978420258, 0.1428801417350769], [0.3082052767276764, 0.255099892616272, 0.1594635248184204, 0.14461879432201385, 0.13261249661445618], [0.28858211636543274, 0.2362086921930313, 0.1712813526391983, 0.15360063314437866, 0.1503271609544754], [0.29966068267822266, 0.2596217691898346, 0.16695687174797058, 0.1431168019771576, 0.13064387440681458], [0.30746299028396606, 0.24471791088581085, 0.1618097722530365, 0.14435920119285583, 0.14165015518665314], [0.30082377791404724, 0.28060925006866455, 0.1553848832845688, 0.13514751195907593, 0.12803460657596588], [0.2832869291305542, 0.2792631983757019, 0.167992502450943, 0.1393430083990097, 0.1301143318414688], [0.30096185207366943, 0.2592250108718872, 0.16845935583114624, 0.14463746547698975, 0.12671630084514618], [0.2855485677719116, 0.24313896894454956, 0.16903698444366455, 0.15481984615325928, 0.1474556177854538], [0.30768001079559326, 0.2654115557670593, 0.16080094873905182, 0.1355581432580948, 0.1305493414402008], [0.2877477705478668, 0.25808992981910706, 0.16766685247421265, 0.14433027803897858, 0.1421651542186737], [0.3071984648704529, 0.25528883934020996, 0.16143934428691864, 0.14749515056610107, 0.12857817113399506], [0.27570149302482605, 0.2449493110179901, 0.17579706013202667, 0.15644384920597076, 0.14710836112499237], [0.30717355012893677, 0.26335129141807556, 0.16106316447257996, 0.1405506432056427, 0.12786133587360382], [0.303812712430954, 0.2507779002189636, 0.16197234392166138, 0.15164083242416382, 0.1317962259054184], [0.3064691424369812, 0.2593945860862732, 0.1632676124572754, 0.14024215936660767, 0.13062642514705658], [0.29618486762046814, 0.24171574413776398, 0.1703784316778183, 0.15229345858097076, 0.1394275724887848], [0.311402827501297, 0.2563925087451935, 0.1615566462278366, 0.13863582909107208, 0.13201214373111725], [0.3000132143497467, 0.2478310912847519, 0.1665596067905426, 0.14387257397174835, 0.14172345399856567], [0.3023184835910797, 0.24878448247909546, 0.1636408269405365, 0.14789140224456787, 0.13736481964588165], [0.28880152106285095, 0.23997074365615845, 0.1862391233444214, 0.14922299981117249, 0.13576559722423553], [0.3037760555744171, 0.25254905223846436, 0.15745221078395844, 0.15300439298152924, 0.13321831822395325], [0.2776827812194824, 0.23488493263721466, 0.20015957951545715, 0.1567835956811905, 0.13048908114433289], [0.30590441823005676, 0.2514656186103821, 0.1627935916185379, 0.14729522168636322, 0.13254109025001526], [0.2784508764743805, 0.23288775980472565, 0.1804073452949524, 0.1646229475736618, 0.1436310112476349], [0.31213560700416565, 0.26195022463798523, 0.1574086993932724, 0.1389988660812378, 0.12950661778450012], [0.3153437376022339, 0.24525703489780426, 0.15217451751232147, 0.14475561678409576, 0.142469123005867], [0.31007108092308044, 0.25819361209869385, 0.1590643972158432, 0.1363496631383896, 0.13632120192050934], [0.29904627799987793, 0.24469031393527985, 0.1612771451473236, 0.1506454348564148, 0.1443408578634262], [0.3095678687095642, 0.25886303186416626, 0.15700235962867737, 0.14592517912387848, 0.12864159047603607], [0.30536654591560364, 0.24630789458751678, 0.1628284603357315, 0.14614945650100708, 0.139347642660141], [0.311926931142807, 0.24999701976776123, 0.16167816519737244, 0.1437874734401703, 0.13261042535305023], [0.2954622507095337, 0.25967809557914734, 0.15229222178459167, 0.15095771849155426, 0.14160968363285065], [0.30897244811058044, 0.26186734437942505, 0.15679606795310974, 0.14125029742717743, 0.13111387193202972], [0.3444482088088989, 0.22659346461296082, 0.14984923601150513, 0.1459127813577652, 0.13319632411003113], [0.30202803015708923, 0.25844064354896545, 0.1656956821680069, 0.14434345066547394, 0.12949217855930328], [0.2997567057609558, 0.24918480217456818, 0.16338017582893372, 0.14967559278011322, 0.13800272345542908], [0.2971245348453522, 0.250998854637146, 0.16321726143360138, 0.14742682874202728, 0.14123257994651794], [0.29601457715034485, 0.2535034716129303, 0.15732328593730927, 0.15434381365776062, 0.1388148069381714], [0.31019920110702515, 0.26221057772636414, 0.16268597543239594, 0.13450098037719727, 0.1304033249616623], [0.28825998306274414, 0.24654772877693176, 0.16752448678016663, 0.15856130421161652, 0.13910645246505737], [0.2903505861759186, 0.25253957509994507, 0.1715448796749115, 0.1471436321735382, 0.13842132687568665], [0.29610124230384827, 0.23817229270935059, 0.17402279376983643, 0.15237559378147125, 0.13932807743549347], [0.30872222781181335, 0.24520517885684967, 0.17175491154193878, 0.14086291193962097, 0.13345471024513245], [0.2917481064796448, 0.23467382788658142, 0.17208893597126007, 0.1520867496728897, 0.14940239489078522], [0.3095654249191284, 0.2523844242095947, 0.16845406591892242, 0.14084793627262115, 0.12874816358089447], [0.2914651036262512, 0.24543219804763794, 0.19468556344509125, 0.1461341381072998, 0.1222829595208168], [0.31037086248397827, 0.26224860548973083, 0.15767207741737366, 0.1395542174577713, 0.13015428185462952], [0.28985124826431274, 0.25220733880996704, 0.17535299062728882, 0.1432059109210968, 0.1393825262784958], [0.31146925687789917, 0.25723519921302795, 0.1595454066991806, 0.14043618738651276, 0.13131394982337952], [0.31066563725471497, 0.24286997318267822, 0.15654276311397552, 0.14755560457706451, 0.14236602187156677], [0.3005121946334839, 0.25358593463897705, 0.1709694266319275, 0.1409989893436432, 0.13393346965312958], [0.30133578181266785, 0.25449416041374207, 0.16100525856018066, 0.14390328526496887, 0.13926158845424652], [0.303804486989975, 0.2507229745388031, 0.16353639960289001, 0.1518927812576294, 0.1300433874130249], [0.2786521315574646, 0.24909904599189758, 0.17030861973762512, 0.15684723854064941, 0.1450929343700409], [0.30518820881843567, 0.2535415589809418, 0.1624058037996292, 0.14589907228946686, 0.1329653114080429], [0.31102630496025085, 0.24870869517326355, 0.16007471084594727, 0.14755141735076904, 0.1326388418674469], [0.30123189091682434, 0.273453027009964, 0.15761005878448486, 0.14194977283477783, 0.12575523555278778], [0.27186769247055054, 0.2544025182723999, 0.1658516377210617, 0.15860027074813843, 0.14927788078784943], [0.3050837218761444, 0.2577112317085266, 0.15994679927825928, 0.14645831286907196, 0.13079993426799774], [0.30021530389785767, 0.24597211182117462, 0.15576115250587463, 0.15261705219745636, 0.1454343944787979], [0.2947533428668976, 0.2516162693500519, 0.16437754034996033, 0.14718131721019745, 0.14207151532173157], [0.3035567104816437, 0.23485885560512543, 0.16075363755226135, 0.15526257455348969, 0.14556825160980225], [0.3070925176143646, 0.2533203959465027, 0.1609649658203125, 0.1446186900138855, 0.1340034455060959], [0.29411813616752625, 0.24661782383918762, 0.16839057207107544, 0.15240731835365295, 0.13846617937088013], [0.30654215812683105, 0.24940001964569092, 0.16717439889907837, 0.14153441786766052, 0.13534899055957794], [0.28397244215011597, 0.27485334873199463, 0.15450294315814972, 0.15034589171409607, 0.1363254189491272], [0.29735928773880005, 0.255221426486969, 0.15987823903560638, 0.1438070684671402, 0.1437339186668396], [0.2996649146080017, 0.2429431527853012, 0.16424579918384552, 0.15315891802310944, 0.13998717069625854], [0.31047675013542175, 0.25079798698425293, 0.16053743660449982, 0.14408625662326813, 0.1341015249490738], [0.29461178183555603, 0.24663473665714264, 0.1658332645893097, 0.1513736993074417, 0.14154648780822754], [0.29058611392974854, 0.24406516551971436, 0.17585717141628265, 0.15197770297527313, 0.13751381635665894], [0.29437461495399475, 0.2563948631286621, 0.1590510755777359, 0.15321627259254456, 0.13696318864822388], [0.3113023042678833, 0.25268566608428955, 0.16325116157531738, 0.14098477363586426, 0.13177606463432312], [0.2988530695438385, 0.2580447494983673, 0.1645858883857727, 0.14330275356769562, 0.13521356880664825], [0.28414496779441833, 0.2513202428817749, 0.17969752848148346, 0.1424243152141571, 0.14241290092468262], [0.29018718004226685, 0.24225834012031555, 0.17647400498390198, 0.15197616815567017, 0.13910433650016785], [0.2953258156776428, 0.24694062769412994, 0.16837655007839203, 0.14566649496555328, 0.14369049668312073], [0.3016725778579712, 0.2487790286540985, 0.16256485879421234, 0.14373503625392914, 0.1432485431432724], [0.3134298026561737, 0.2556837797164917, 0.15251152217388153, 0.14639820158481598, 0.13197672367095947], [0.3063006103038788, 0.2443004548549652, 0.158375084400177, 0.14757367968559265, 0.14345017075538635], [0.31296998262405396, 0.2534469664096832, 0.15688465535640717, 0.14316071569919586, 0.13353770971298218], [0.28065225481987, 0.2537195384502411, 0.17274601757526398, 0.1544167399406433, 0.13846547901630402], [0.30585166811943054, 0.2599351704120636, 0.158726766705513, 0.14121119678020477, 0.13427524268627167], [0.3061133921146393, 0.26383835077285767, 0.1502864807844162, 0.14871887862682343, 0.13104291260242462], [0.299018919467926, 0.2486163228750229, 0.16561132669448853, 0.14360781013965607, 0.1431456357240677], [0.284760981798172, 0.24376003444194794, 0.17076267302036285, 0.15392687916755676, 0.14678941667079926], [0.2941924035549164, 0.2448573261499405, 0.18530595302581787, 0.14698182046413422, 0.12866252660751343], [0.28728222846984863, 0.2513338327407837, 0.16180990636348724, 0.15209850668907166, 0.14747554063796997], [0.30515316128730774, 0.252814382314682, 0.17103442549705505, 0.13886485993862152, 0.1321331262588501], [0.29848846793174744, 0.24708081781864166, 0.16564548015594482, 0.14540238678455353, 0.14338286221027374]]\n"
     ]
    }
   ],
   "source": [
    "test.run(generate_test_predictions, overwrite=True)"
   ]
  },
  {
   "cell_type": "code",
   "execution_count": 28,
   "metadata": {},
   "outputs": [
    {
     "name": "stdout",
     "output_type": "stream",
     "text": [
      "Test cases:      200\n",
      "Fails (rate):    0 (0.0%)\n"
     ]
    }
   ],
   "source": [
    "test.summary()"
   ]
  },
  {
   "cell_type": "code",
   "execution_count": 29,
   "metadata": {},
   "outputs": [
    {
     "data": {
      "application/vnd.jupyter.widget-view+json": {
       "model_id": "6f263682537e471fb91fc17d48be9047",
       "version_major": 2,
       "version_minor": 0
      },
      "text/plain": [
       "TestSummarizer(stats={'npassed': 200, 'nfailed': 0, 'nfiltered': 0}, summarizer={'name': 'Next token invariant…"
      ]
     },
     "metadata": {},
     "output_type": "display_data"
    }
   ],
   "source": [
    "test.visual_summary()"
   ]
  },
  {
   "cell_type": "code",
   "execution_count": null,
   "metadata": {},
   "outputs": [],
   "source": []
  }
 ],
 "metadata": {
  "kernelspec": {
   "display_name": "Python 3",
   "language": "python",
   "name": "python3"
  },
  "language_info": {
   "codemirror_mode": {
    "name": "ipython",
    "version": 3
   },
   "file_extension": ".py",
   "mimetype": "text/x-python",
   "name": "python",
   "nbconvert_exporter": "python",
   "pygments_lexer": "ipython3",
   "version": "3.8.10"
  }
 },
 "nbformat": 4,
 "nbformat_minor": 4
}
